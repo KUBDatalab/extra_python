{
 "cells": [
  {
   "cell_type": "markdown",
   "id": "0d91c106",
   "metadata": {},
   "source": [
    "In this notebook we download two books from Gutenberg.org and save them to our computer.\n",
    "\n",
    "Along the way, we use strings, lists and associated built-in methods, as well as loops."
   ]
  },
  {
   "cell_type": "code",
   "execution_count": 3,
   "id": "7ee85e0c",
   "metadata": {},
   "outputs": [],
   "source": [
    "import urllib.request\n",
    "import re\n",
    "import os\n",
    "from pathlib import Path"
   ]
  },
  {
   "cell_type": "code",
   "execution_count": 4,
   "id": "e2f71bc2",
   "metadata": {},
   "outputs": [],
   "source": [
    "# hc andersens fairy tales\n",
    "url = 'https://gutenberg.org/cache/epub/1597/pg1597.txt'\n",
    "raw_text_hca = urllib.request.urlopen(url).read().decode()"
   ]
  },
  {
   "cell_type": "code",
   "execution_count": 5,
   "id": "1a984998",
   "metadata": {},
   "outputs": [],
   "source": [
    "# find the start\n",
    "start = raw_text_hca.find(\"ANDERSEN'S FAIRY TALES\") + len(\"ANDERSEN'S FAIRY TALES\")\n",
    "\n",
    "# find end\n",
    "end = raw_text_hca.find(\"End of Project Gutenberg's Andersen's Fairy Tales, by Hans Christian Andersen\")\n",
    "\n",
    "# find what is between start and end\n",
    "content = raw_text_hca[start:end]\n",
    "\n",
    "# Split on every fairy tale \n",
    "tales = content.split('\\r\\n\\r\\n\\r\\n\\r\\n\\r\\n') # split before title headline\n",
    "\n",
    "# Filter the two first items away; they are not relevant\n",
    "tales = tales[2:-1] \n",
    "\n",
    "titles = []\n",
    "for i in tales:\n",
    "    split_text = i.split('\\r\\n\\r') # split after title\n",
    "    title = split_text[0] # Save first part of the split - that is the title  \n",
    "    titles.append(title) # add the title to the empty list\n",
    "\n",
    "# zip titles and tales (last element in titles is not relevant)   \n",
    "zip_format = list(zip(titles[:-1], tales))"
   ]
  },
  {
   "cell_type": "code",
   "execution_count": 6,
   "id": "16aba751",
   "metadata": {},
   "outputs": [],
   "source": [
    "# path to directory with texts\n",
    "output_folder = Path.cwd() / '../data/txt_files/hca'"
   ]
  },
  {
   "cell_type": "code",
   "execution_count": 72,
   "id": "4945fb71",
   "metadata": {},
   "outputs": [],
   "source": [
    "# Save the files in the folder\n",
    "for i in zip_format:\n",
    "    file_name = i[0] + '.txt'\n",
    "    with open (output_folder / file_name , 'w', encoding='utf-8') as f:\n",
    "        f.write(i[1])"
   ]
  },
  {
   "cell_type": "code",
   "execution_count": 8,
   "id": "92242ac2",
   "metadata": {},
   "outputs": [],
   "source": [
    "# grimms fairy tales\n",
    "url = 'https://www.gutenberg.org/files/2591/2591-0.txt'\n",
    "raw_text_grimm = urllib.request.urlopen(url).read().decode()"
   ]
  },
  {
   "cell_type": "code",
   "execution_count": 9,
   "id": "39439164",
   "metadata": {},
   "outputs": [],
   "source": [
    "#find the start \n",
    "start = raw_text_grimm.find('THE BROTHERS GRIMM FAIRY TALES') + len('THE BROTHERS GRIMM FAIRY TALES')\n",
    "\n",
    "# find the end\n",
    "end = raw_text_grimm.find('*****')\n",
    "\n",
    "# find what is between\n",
    "content = raw_text_grimm[start:end]\n",
    "\n",
    "# split on every fairy tale \n",
    "tales = content.split('\\r\\n\\r\\n\\r\\n\\r\\n\\r\\n') # split før overskrift på titel\n",
    "# Filter away the first item, as it is empty\n",
    "tales = tales[1:] \n",
    "\n",
    "titles = []\n",
    "for i in tales:\n",
    "    split_text = i.split('\\r\\n\\r\\n\\r\\n') # split after title\n",
    "    title = split_text[0] # save first part of the split - that is the title  \n",
    "    titles.append(title) # append the title to the empty list\n",
    "\n",
    "# zip titles and tales    \n",
    "zip_format = list(zip(titles, tales))"
   ]
  },
  {
   "cell_type": "code",
   "execution_count": 11,
   "id": "ed42fd87",
   "metadata": {},
   "outputs": [],
   "source": [
    "# path to folder with texts\n",
    "output_folder = Path.cwd() / '../data/txt_files/grimm'"
   ]
  },
  {
   "cell_type": "code",
   "execution_count": 12,
   "id": "a415d77d",
   "metadata": {},
   "outputs": [],
   "source": [
    "# Store the files in the folder\n",
    "for i in zip_format:\n",
    "    file_name = i[0] + '.txt'\n",
    "    with open (output_folder / file_name , 'w', encoding='utf-8') as f:\n",
    "        f.write(i[1])"
   ]
  },
  {
   "cell_type": "code",
   "execution_count": null,
   "id": "2800b8a5",
   "metadata": {},
   "outputs": [],
   "source": []
  }
 ],
 "metadata": {
  "kernelspec": {
   "display_name": "Python 3 (ipykernel)",
   "language": "python",
   "name": "python3"
  },
  "language_info": {
   "codemirror_mode": {
    "name": "ipython",
    "version": 3
   },
   "file_extension": ".py",
   "mimetype": "text/x-python",
   "name": "python",
   "nbconvert_exporter": "python",
   "pygments_lexer": "ipython3",
   "version": "3.12.4"
  }
 },
 "nbformat": 4,
 "nbformat_minor": 5
}
