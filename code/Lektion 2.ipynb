{
 "cells": [
  {
   "cell_type": "markdown",
   "id": "fb8b831e",
   "metadata": {},
   "source": [
    "# Pandas \n",
    "Formålet er at øge kendskabet til pandas dataframes og nogle praktiske metoder. Pandas er et 'must', hvis man bruger Python til at arbejde data, som er systematiseret og struktureret i rækker og kolonner.\n",
    "\n",
    "Vi har nogle to mapper med eventyr, og vi arbejder hen imod at på teksterne samlet i en dataframe. Når vi har samlet teksterne der vil vi begynde at undersøge dem."
   ]
  },
  {
   "cell_type": "code",
   "execution_count": 313,
   "id": "3ba04f66",
   "metadata": {},
   "outputs": [],
   "source": [
    "# importer bibliotekerne\n",
    "import os\n",
    "from pathlib import Path\n",
    "import pandas as pd\n",
    "import re\n",
    "\n",
    "import seaborn as sns\n",
    "import matplotlib.pyplot as plt\n",
    "import warnings\n",
    "warnings.simplefilter(action='ignore', category=FutureWarning)"
   ]
  },
  {
   "cell_type": "markdown",
   "id": "6e6fecaa",
   "metadata": {},
   "source": [
    "## Definer stien til mappen med Grimms eventyr"
   ]
  },
  {
   "cell_type": "code",
   "execution_count": 334,
   "id": "cac9d7f0",
   "metadata": {},
   "outputs": [],
   "source": [
    "# sti til mappen med Grimms eventyr\n",
    "text_folder = Path.cwd() / '../data/txt_files/grimm'\n",
    "text_files = os.listdir(text_folder)"
   ]
  },
  {
   "cell_type": "markdown",
   "id": "4c416f0a",
   "metadata": {},
   "source": [
    "## Gem titlerne i en liste"
   ]
  },
  {
   "cell_type": "code",
   "execution_count": 338,
   "id": "aa62403a",
   "metadata": {},
   "outputs": [
    {
     "name": "stdout",
     "output_type": "stream",
     "text": [
      "Total antal titler : 62.\n",
      "Titlerne er: \n",
      "['ASHPUTTEL', 'BRIAR ROSE', 'CAT AND MOUSE IN PARTNERSHIP', 'CAT-SKIN', 'CLEVER ELSIE', 'CLEVER GRETEL', 'CLEVER HANS', 'DOCTOR KNOWALL', 'FREDERICK AND CATHERINE', 'FUNDEVOGEL', 'HANS IN LUCK', 'HANSEL AND GRETEL', 'IRON HANS', 'JORINDA AND JORINDEL', 'KING GRISLY-BEARD', 'LILY AND THE LION', 'LITTLE RED-CAP [LITTLE RED RIDING HOOD]', 'MOTHER HOLLE', 'OLD SULTAN', 'RAPUNZEL', 'RUMPELSTILTSKIN', 'SNOW-WHITE AND ROSE-RED', 'SNOWDROP', 'SWEETHEART ROLAND', 'THE ADVENTURES OF CHANTICLEER AND PARTLET', 'THE BLUE LIGHT', 'THE DOG AND THE SPARROW', 'THE ELVES AND THE SHOEMAKER', 'THE FISHERMAN AND HIS WIFE', 'THE FOUR CLEVER BROTHERS', 'THE FOX AND THE CAT', 'THE FOX AND THE HORSE', 'THE FROG-PRINCE', 'THE GOLDEN BIRD', 'THE GOLDEN GOOSE', 'THE GOOSE-GIRL', 'THE JUNIPER-TREE', 'THE KING OF THE GOLDEN MOUNTAIN', 'THE LITTLE PEASANT', 'THE MISER IN THE BUSH', 'THE MOUSE, THE BIRD, AND THE SAUSAGE', 'THE OLD MAN AND HIS GRANDSON', 'THE PINK', 'THE QUEEN BEE', 'THE RAVEN', 'THE ROBBER BRIDEGROOM', 'THE SALAD', 'THE SEVEN RAVENS', 'THE STORY OF THE YOUTH WHO WENT FORTH TO LEARN WHAT FEAR WAS', 'THE STRAW, THE COAL, AND THE BEAN', 'THE THREE LANGUAGES', 'THE TRAVELLING MUSICIANS', 'THE TURNIP', 'THE TWELVE DANCING PRINCESSES', 'THE TWELVE HUNTSMEN', 'THE VALIANT LITTLE TAILOR', 'THE WATER OF LIFE', 'THE WEDDING OF MRS FOX', 'THE WHITE SNAKE', 'THE WILLOW-WREN AND THE BEAR', 'THE WOLF AND THE SEVEN LITTLE KIDS', 'TOM THUMB']\n"
     ]
    }
   ],
   "source": [
    "titles = []\n",
    "for i in text_files:\n",
    "    title = str(i[:-4])\n",
    "    titles.append(title)\n",
    "\n",
    "print (f'Total antal titler : {len(titles)}.\\nTitlerne er: \\n{titles}')"
   ]
  },
  {
   "cell_type": "markdown",
   "id": "0a590320",
   "metadata": {},
   "source": [
    "## Åbn tekstern og gem dem i en liste"
   ]
  },
  {
   "cell_type": "code",
   "execution_count": 316,
   "id": "71558394",
   "metadata": {},
   "outputs": [],
   "source": [
    "texts = []\n",
    "for item in text_files:\n",
    "    with open( text_folder / item, 'r', encoding='utf-8-sig') as f:\n",
    "        text = f.read()\n",
    "        texts.append(text)"
   ]
  },
  {
   "cell_type": "markdown",
   "id": "4e75a88d",
   "metadata": {},
   "source": [
    "## Gem data i en dataframe"
   ]
  },
  {
   "cell_type": "code",
   "execution_count": 339,
   "id": "367aafe4",
   "metadata": {},
   "outputs": [],
   "source": [
    "df = pd.DataFrame({'title': titles,\n",
    "                  'text':texts,\n",
    "                  'author': 'Grimms'})"
   ]
  },
  {
   "cell_type": "code",
   "execution_count": null,
   "id": "177aa43d",
   "metadata": {},
   "outputs": [],
   "source": []
  },
  {
   "cell_type": "markdown",
   "id": "09174d75",
   "metadata": {},
   "source": [
    "## Byg funktion af koden ovenfor og lav en dataframe med HCA's eventyr\n",
    "\n",
    "Prøv at samle de forskellige kodestykker som "
   ]
  },
  {
   "cell_type": "code",
   "execution_count": null,
   "id": "2d7f5f0e",
   "metadata": {},
   "outputs": [],
   "source": [
    "# sti til mappen med tekster\n",
    "text_folder = Path.cwd() / '../data/txt_files/hca'\n",
    "text_files = os.listdir(text_folder)\n",
    "\n",
    "def build_df(text_files, author_name):\n",
    "    titles = []\n",
    "    for i in text_files:\n",
    "        title = str(i[:-4])\n",
    "        titles.append(title)\n",
    "\n",
    "    texts = []\n",
    "    for item in text_files:\n",
    "        with open( text_folder / item, 'r', encoding='utf-8-sig') as f:\n",
    "            text = f.read()\n",
    "            texts.append(text)\n",
    "\n",
    "    df = pd.DataFrame({'title': titles,\n",
    "                      'text':texts,\n",
    "                      'author': author_name})\n",
    "    \n",
    "    return df\n",
    "\n",
    "df2 = build_df(text_files, 'hca')"
   ]
  },
  {
   "cell_type": "code",
   "execution_count": null,
   "id": "7b60fb96",
   "metadata": {},
   "outputs": [],
   "source": []
  },
  {
   "cell_type": "code",
   "execution_count": null,
   "id": "72da04c5",
   "metadata": {},
   "outputs": [],
   "source": []
  },
  {
   "cell_type": "code",
   "execution_count": 336,
   "id": "0119768a",
   "metadata": {},
   "outputs": [],
   "source": [
    "# statistik på tekstlængde\n",
    "df['text_len'] = df['text'].apply(lambda x :len(x))"
   ]
  },
  {
   "cell_type": "markdown",
   "id": "617a76a7",
   "metadata": {},
   "source": [
    "# Visualisering af tekstlængde\n",
    "Vi vil lave en visualisering af datafordelingen. Til dette skal vi bruge et histogram.\n",
    "\n",
    "Vi skal finde ud af, hvor mange søljer vi skal have. Til at beregne dette bruger vi formlen antal søjler = log(n) / log(2), hvor n er antal af værdier.\n",
    "\n",
    "Og vi skal finde ud af, hvor bredde søjlerne cirka skal være. søjleinddeling =(største værdi - mindste værdi ) /( antal søjler ). \n",
    "\n",
    "_Kilde: \n",
    "  Stjernholm Madsen, Birger., Birger Stjernholm Madsen, and Birger. Stjernholm Madsen. Statistik for ikke-statistikere. 1. udgave. Frederiksberg: Samfundslitteratur, 2008. Print._  "
   ]
  },
  {
   "cell_type": "code",
   "execution_count": 319,
   "id": "725007ae",
   "metadata": {},
   "outputs": [
    {
     "name": "stdout",
     "output_type": "stream",
     "text": [
      " Antal søjler er 6 og søljebredden er 3080.0\n"
     ]
    }
   ],
   "source": [
    "import numpy as np\n",
    "\n",
    "# Number of columns\n",
    "def n_columns(n):\n",
    "    return round ( np.log(n) / np.log(2) )\n",
    "   \n",
    "    \n",
    "print (f' Antal søjler er {n_columns( len(df))} og søljebredden er {round ( (data.max() - data.min()) / num_bins, -1 )}')"
   ]
  },
  {
   "cell_type": "markdown",
   "id": "fbebb7a3",
   "metadata": {},
   "source": [
    "For at få nogle \"pæne\" tal runder vi søjlebredden op til nærmeste 10'er og bruger seaborn bibliotekets histplot."
   ]
  },
  {
   "cell_type": "code",
   "execution_count": 320,
   "id": "c7e9e33b",
   "metadata": {},
   "outputs": [
    {
     "data": {
      "image/png": "[encoded data removed]",
      "text/plain": [
       "<Figure size 640x480 with 1 Axes>"
      ]
     },
     "metadata": {},
     "output_type": "display_data"
    }
   ],
   "source": [
    "import pandas as pd\n",
    "import seaborn as sns\n",
    "import matplotlib.pyplot as plt\n",
    "\n",
    "# Create a DataFrame from your data\n",
    "data = df['text_len']\n",
    "\n",
    "# Calculate the number of bins\n",
    "num_bins = 6\n",
    "\n",
    "# Calculate the width of each bin - round to nearest 10\n",
    "bin_width = round ( (data.max() - data.min()) / num_bins, -1 )\n",
    "\n",
    "# Calculate the interval midpoints\n",
    "interval_midpoints = [data.min() + (i + 0.5) * bin_width for i in range(num_bins)]\n",
    "\n",
    "# Create a histogram using Seaborn with custom bin edges\n",
    "hist = sns.histplot(data=data, bins=num_bins)\n",
    "\n",
    "# Set labels and title\n",
    "plt.xlabel('Tekstlængde i tegn')\n",
    "plt.ylabel('Antal tekster')\n",
    "author = df.at[0, 'author']\n",
    "plt.title(f'Histogram med interval midtpunkter i {author} eventyr')\n",
    "\n",
    "# Set the x-axis ticks to display interval midpoints\n",
    "hist.set_xticks(interval_midpoints)\n",
    "\n",
    "# Show the plot\n",
    "plt.show()"
   ]
  },
  {
   "cell_type": "markdown",
   "id": "de6976bd",
   "metadata": {},
   "source": [
    "# Byg funktion af koden ovenfor og lav en dataframe med HCA's eventyr"
   ]
  },
  {
   "cell_type": "code",
   "execution_count": 321,
   "id": "4949beea",
   "metadata": {},
   "outputs": [],
   "source": [
    "# sti til mappen med tekster\n",
    "text_folder = Path.cwd() / '../data/txt_files/hca'\n",
    "text_files = os.listdir(text_folder)\n",
    "\n",
    "def build_df(text_files, author_name):\n",
    "    titles = []\n",
    "    for i in text_files:\n",
    "        title = str(i[:-4])\n",
    "        titles.append(title)\n",
    "\n",
    "    texts = []\n",
    "    for item in text_files:\n",
    "        with open( text_folder / item, 'r', encoding='utf-8-sig') as f:\n",
    "            text = f.read()\n",
    "            texts.append(text)\n",
    "\n",
    "    df = pd.DataFrame({'title': titles,\n",
    "                      'text':texts,\n",
    "                      'author': author_name})\n",
    "    \n",
    "    return df\n",
    "\n",
    "df2 = build_df(text_files, 'hca')\n",
    "\n",
    "# statistik på tekstlængde\n",
    "df2['text_len'] = df2['text'].apply(lambda x :len(x))"
   ]
  },
  {
   "cell_type": "markdown",
   "id": "6b372327",
   "metadata": {},
   "source": [
    "# pd.concat()\n",
    "Tilføj rækker fra en dataframe til en anden"
   ]
  },
  {
   "cell_type": "code",
   "execution_count": 322,
   "id": "3489e726",
   "metadata": {},
   "outputs": [],
   "source": [
    "new_df = pd.concat([df, df2])"
   ]
  },
  {
   "cell_type": "code",
   "execution_count": 323,
   "id": "56e8bdbf",
   "metadata": {},
   "outputs": [],
   "source": [
    "# Visualisering af tekstlængde til sammenligning"
   ]
  },
  {
   "cell_type": "code",
   "execution_count": 324,
   "id": "0b9f68c8",
   "metadata": {},
   "outputs": [
    {
     "data": {
      "image/png": "[encoded data removed]",
      "text/plain": [
       "<Figure size 1000x500 with 2 Axes>"
      ]
     },
     "metadata": {},
     "output_type": "display_data"
    }
   ],
   "source": [
    "# Byg to serier\n",
    "data1 = new_df[new_df['author'] == 'Grimms']['text_len']\n",
    "\n",
    "data2 = new_df[new_df['author'] == 'hca']['text_len']\n",
    "\n",
    "\n",
    "# figur og to subplots\n",
    "fig, axes = plt.subplots(1, 2, figsize=(10, 5))\n",
    "\n",
    "# Lav et boxplot subplots vha Seaborn\n",
    "sns.boxplot(data=data1, ax=axes[0])\n",
    "sns.boxplot(data=data2, ax=axes[1])\n",
    "\n",
    "# Tilføj titler \n",
    "axes[0].set_title('Boxplot of Grimms')\n",
    "axes[0].set_xlabel('Tekstlængde i tegn')\n",
    "axes[1].set_title('Boxplot of HCA')\n",
    "axes[1].set_xlabel('Tekstlængde i tegn')\n",
    "\n",
    "#Vis plottet\n",
    "plt.tight_layout()\n",
    "plt.show()"
   ]
  },
  {
   "cell_type": "code",
   "execution_count": 325,
   "id": "b1c1fe27",
   "metadata": {},
   "outputs": [],
   "source": [
    "def remove_outliers_IQR(data_frame, column_name):\n",
    "    \"\"\"\n",
    "    Remove outliers from a column in a pandas DataFrame using the Interquartile Range (IQR) method.\n",
    "\n",
    "    Parameters:\n",
    "    data_frame (pandas.DataFrame): A pandas DataFrame.\n",
    "    column_name (str): The name of the column containing numerical data.\n",
    "\n",
    "    Returns:\n",
    "    pandas.DataFrame: A DataFrame with outliers removed.\n",
    "    \"\"\"\n",
    "\n",
    "    # Extract the specified column as a Series\n",
    "    data_series = data_frame[column_name]\n",
    "\n",
    "    # Calculate the first quartile (Q1) and the third quartile (Q3)\n",
    "    q1 = data_series.quantile(0.25)\n",
    "    q3 = data_series.quantile(0.75)\n",
    "\n",
    "    # Calculate the Interquartile Range (IQR)\n",
    "    IQR = q3 - q1\n",
    "\n",
    "    # Determine the lower and upper bounds for outliers\n",
    "    lower_bound = q1 - 1.5 * IQR\n",
    "    upper_bound = q3 + 1.5 * IQR\n",
    "\n",
    "    # Select data points that are not outliers based on the bounds\n",
    "    not_outliers_df = data_frame[(data_frame[column_name] > lower_bound) & (data_frame[column_name] < upper_bound)]\n",
    "\n",
    "    return not_outliers_df"
   ]
  },
  {
   "cell_type": "code",
   "execution_count": 326,
   "id": "cb738af8",
   "metadata": {},
   "outputs": [],
   "source": [
    "new_hca = remove_outliers_IQR(df2, 'text_len').reset_index(drop=True)"
   ]
  },
  {
   "cell_type": "code",
   "execution_count": 327,
   "id": "303425f3",
   "metadata": {},
   "outputs": [
    {
     "data": {
      "image/png": "[encoded data removed]",
      "text/plain": [
       "<Figure size 1000x500 with 2 Axes>"
      ]
     },
     "metadata": {},
     "output_type": "display_data"
    }
   ],
   "source": [
    "# Byg to serier\n",
    "data1 = new_df[new_df['author'] == 'Grimms']['text_len']\n",
    "\n",
    "data2 = new_hca[new_hca['author'] == 'hca']['text_len']\n",
    "\n",
    "\n",
    "# figur og to subplots\n",
    "fig, axes = plt.subplots(1, 2, figsize=(10, 5))\n",
    "\n",
    "# Lav et boxplot subplots vha Seaborn\n",
    "sns.boxplot(data=data1, ax=axes[0])\n",
    "sns.boxplot(data=data2, ax=axes[1])\n",
    "\n",
    "# Tilføj titler \n",
    "axes[0].set_title('Boxplot of Grimms')\n",
    "axes[0].set_xlabel('Tekstlængde i tegn')\n",
    "axes[1].set_title('Boxplot of HCA')\n",
    "axes[1].set_xlabel('Tekstlængde i tegn')\n",
    "\n",
    "# Manuel indstilling af y-aksens grænser til tvinge visualiseringne til at være ens på begge subplots\n",
    "y_max = max(data1.max(), data2.max())\n",
    "axes[0].set_ylim(0, y_max)\n",
    "axes[1].set_ylim(0, y_max)\n",
    "\n",
    "#Vis plottet\n",
    "plt.tight_layout()\n",
    "plt.show()"
   ]
  },
  {
   "cell_type": "code",
   "execution_count": 328,
   "id": "898b26d2",
   "metadata": {},
   "outputs": [
    {
     "name": "stdout",
     "output_type": "stream",
     "text": [
      "0.0010795694728969532\n"
     ]
    },
    {
     "data": {
      "text/plain": [
       "107.95694728969532"
      ]
     },
     "execution_count": 328,
     "metadata": {},
     "output_type": "execute_result"
    }
   ],
   "source": [
    "# The number of occurences of our search term.\n",
    "\n",
    "search_term = 'bird'\n",
    "\n",
    "hits1 = new_df['text'].str.count(search_term).sum()\n",
    "\n",
    "# The total number of words.\n",
    "total1 = new_df['text'].str.split().str.len().sum()\n",
    "\n",
    "# Relative frequency calculation\n",
    "rf1 = hits1 / total1\n",
    "\n",
    "print(rf1)\n",
    "\n",
    "\n",
    "### Build as a function\n",
    "\n",
    "def rel_freq(data_frame, column_name, search_term):\n",
    "   \n",
    "\n",
    "    hits1 = data_frame[column_name].str.count(search_term).sum()\n",
    "\n",
    "    # The total number of words.\n",
    "    total1 = data_frame[column_name].str.split().str.len().sum()\n",
    "\n",
    "    # Relative frequency calculation\n",
    "    rf1 = ( hits1 / total1 ) * 100000\n",
    "\n",
    "    return rf1\n",
    "\n",
    "\n",
    "rel_freq(new_df, 'text', 'bird')"
   ]
  },
  {
   "cell_type": "code",
   "execution_count": 329,
   "id": "0f5c3dbd",
   "metadata": {},
   "outputs": [
    {
     "name": "stdout",
     "output_type": "stream",
     "text": [
      "Relativ frequence of swan: 3.7655\n",
      "Relativ frequence of swans: 3.7655\n",
      "Relativ frequence of mermaid: 0.0\n",
      "Relativ frequence of mermaids: 0.0\n",
      "Relativ frequence of nightingale: 9.4137\n",
      "Relativ frequence of nightingales: 0.0\n",
      "Relativ frequence of duck: 0.0\n",
      "Relativ frequence of ducks: 0.0\n",
      "Relativ frequence of fish: 9.4137\n",
      "Relativ frequence of fish: 9.4137\n",
      "Relativ frequence of butterfly: 0.0\n",
      "Relativ frequence of butterflies: 0.0\n",
      "Relativ frequence of beetle: 0.0\n",
      "Relativ frequence of beetles: 0.0\n",
      "Relativ frequence of swallow: 9.4137\n",
      "Relativ frequence of swallows: 5.6482\n",
      "Relativ frequence of dolphin: 0.0\n",
      "Relativ frequence of dolphins: 0.0\n",
      "Relativ frequence of seahorse: 0.0\n",
      "Relativ frequence of seahorses: 0.0\n",
      "Relativ frequence of wolf: 0.0\n",
      "Relativ frequence of wolves: 1.8827\n",
      "Relativ frequence of frog: 16.9447\n",
      "Relativ frequence of frogs: 1.8827\n",
      "Relativ frequence of donkey: 0.0\n",
      "Relativ frequence of donkeys: 0.0\n",
      "Relativ frequence of raven: 3.7655\n",
      "Relativ frequence of ravens: 1.8827\n",
      "Relativ frequence of bird: 52.7168\n",
      "Relativ frequence of birds: 22.5929\n",
      "Relativ frequence of cat: 33.8894\n",
      "Relativ frequence of cats: 0.0\n",
      "Relativ frequence of mouse: 0.0\n",
      "Relativ frequence of mice: 0.0\n",
      "Relativ frequence of fox: 3.7655\n",
      "Relativ frequence of foxes: 1.8827\n",
      "Relativ frequence of horse: 26.3584\n",
      "Relativ frequence of horses: 9.4137\n",
      "Relativ frequence of pig: 15.0619\n",
      "Relativ frequence of pigs: 5.6482\n",
      "Relativ frequence of bear: 54.5995\n",
      "Relativ frequence of bears: 5.6482\n",
      "Relativ frequence of lion: 20.7102\n",
      "Relativ frequence of lions: 5.6482\n",
      "Relativ frequence of snake: 7.531\n",
      "Relativ frequence of snakes: 5.6482\n"
     ]
    }
   ],
   "source": [
    "fairy_tale_animals = [\n",
    "    \"swan\", \"swans\",\n",
    "    \"mermaid\", \"mermaids\",\n",
    "    \"nightingale\", \"nightingales\",\n",
    "    \"duck\", \"ducks\",\n",
    "    \"fish\", \"fish\",\n",
    "    \"butterfly\", \"butterflies\",\n",
    "    \"beetle\", \"beetles\",\n",
    "    \"swallow\", \"swallows\",\n",
    "    \"dolphin\", \"dolphins\",\n",
    "    \"seahorse\", \"seahorses\",\n",
    "    \"wolf\", \"wolves\",\n",
    "    \"frog\", \"frogs\",\n",
    "    \"donkey\", \"donkeys\",\n",
    "    \"raven\", \"ravens\",\n",
    "    \"bird\", \"birds\",\n",
    "    \"cat\", \"cats\",\n",
    "    \"mouse\", \"mice\",\n",
    "    \"fox\", \"foxes\",\n",
    "    \"horse\", \"horses\",\n",
    "    \"pig\", \"pigs\",\n",
    "    \"bear\", \"bears\",\n",
    "    \"lion\", \"lions\",\n",
    "    \"snake\", \"snakes\"\n",
    "]\n",
    "\n",
    "\n",
    "for i in fairy_tale_animals:\n",
    "    #rf = rel_freq( new_df , 'text', i) \n",
    "    rf = round ( rel_freq( new_df[new_df['author'] == 'hca'] , 'text', i), 4 )\n",
    "    print (f'Relativ frequence of {i}: {rf}')"
   ]
  },
  {
   "cell_type": "code",
   "execution_count": 330,
   "id": "da85fbdd",
   "metadata": {},
   "outputs": [],
   "source": [
    "# Use function with apply"
   ]
  },
  {
   "cell_type": "code",
   "execution_count": 331,
   "id": "c5a151a4",
   "metadata": {},
   "outputs": [],
   "source": [
    "# Opdeling af tekster\n",
    "def segmenter(text):\n",
    "    paragraphs = text.split('.')\n",
    "    return  paragraphs\n",
    "\n",
    "new_df['paragraphs'] = new_df['text'].apply(lambda x : segmenter (x)) "
   ]
  },
  {
   "cell_type": "markdown",
   "id": "18d0b435",
   "metadata": {},
   "source": [
    "# use .iterrows()"
   ]
  },
  {
   "cell_type": "code",
   "execution_count": 333,
   "id": "92164021",
   "metadata": {},
   "outputs": [
    {
     "name": "stdout",
     "output_type": "stream",
     "text": [
      "********************\n",
      "In GRIMMS fairy tail JORINDA AND JORINDEL the word NIGHTINGALE is in this paragraphs:\n",
      "  Jorindel turned to see the reason, and\n",
      "\n",
      "beheld his Jorinda changed into a nightingale, so that her song ended\n",
      "\n",
      "with a mournful _jug, jug_\n",
      "\n",
      "\n",
      "********************\n",
      "In GRIMMS fairy tail JORINDA AND JORINDEL the word NIGHTINGALE is in this paragraphs:\n",
      " \n",
      "\n",
      "\n",
      "\n",
      "She mumbled something to herself, seized the nightingale, and went away\n",
      "\n",
      "with it in her hand\n",
      "\n",
      "\n",
      "********************\n",
      "In GRIMMS fairy tail JORINDA AND JORINDEL the word NIGHTINGALE is in this paragraphs:\n",
      "  Poor Jorindel saw the nightingale was gone--but\n",
      "\n",
      "what could he do? He could not speak, he could not move from the spot\n",
      "\n",
      "where he stood\n",
      "\n",
      "\n",
      "********************\n",
      "In GRIMMS fairy tail JORINDA AND JORINDEL the word NIGHTINGALE is in this paragraphs:\n",
      "  He looked around at\n",
      "\n",
      "the birds, but alas! there were many, many nightingales, and how then\n",
      "\n",
      "should he find out which was his Jorinda? While he was thinking what to\n",
      "\n",
      "do, he saw the fairy had taken down one of the cages, and was making the\n",
      "\n",
      "best of her way off through the door\n",
      "\n",
      "\n",
      "********************\n",
      "In HCA fairy tail THE BELL the word NIGHTINGALE is in this paragraphs:\n",
      "  Woodroof and anemonies grew almost too high; blooming\n",
      "\n",
      "convolvuluses and blackberry-bushes hung in long garlands from tree to\n",
      "\n",
      "tree, where the nightingale sang and the sunbeams were playing: it was\n",
      "\n",
      "very beautiful, but it was no place for girls to go; their clothes would\n",
      "\n",
      "get so torn\n",
      "\n",
      "\n",
      "********************\n",
      "In HCA fairy tail THE SWINEHERD the word NIGHTINGALE is in this paragraphs:\n",
      " \n",
      "\n",
      "\n",
      "\n",
      "And furthermore, the Prince had a nightingale, who could sing in such a\n",
      "\n",
      "manner that it seemed as though all sweet melodies dwelt in her little\n",
      "\n",
      "throat\n",
      "\n",
      "\n",
      "********************\n",
      "In HCA fairy tail THE SWINEHERD the word NIGHTINGALE is in this paragraphs:\n",
      "  So the Princess was to have the rose, and the nightingale; and\n",
      "\n",
      "they were accordingly put into large silver caskets, and sent to her\n",
      "\n",
      "\n",
      "********************\n",
      "In HCA fairy tail THE SWINEHERD the word NIGHTINGALE is in this paragraphs:\n",
      "  So the nightingale came forth and sang so\n",
      "\n",
      "delightfully that at first no one could say anything ill-humored of her\n",
      "\n",
      "\n",
      "********************\n",
      "In HCA fairy tail THE SWINEHERD the word NIGHTINGALE is in this paragraphs:\n",
      "  “Thou would'st not have an\n",
      "\n",
      "honorable Prince! Thou could'st not prize the rose and the nightingale,\n",
      "\n",
      "but thou wast ready to kiss the swineherd for the sake of a trumpery\n",
      "\n",
      "plaything\n",
      "\n",
      "\n"
     ]
    }
   ],
   "source": [
    "search_term = ''\n",
    "def get_paragraphs(data_frame, search_term):\n",
    "    # Iterate over rows using iterrows()\n",
    "    for index, row in data_frame.iterrows():\n",
    "        for p in row['paragraphs']:\n",
    "            if search_term in p:\n",
    "                au = row['author']\n",
    "                ti = row['title']\n",
    "                print ('*'*20)\n",
    "                print (f'In {au.upper()} fairy tail {ti} the word {search_term.upper()} is in this paragraphs:\\n {p}')\n",
    "                print ('\\n')\n",
    "                \n",
    "\n",
    "get_paragraphs(new_df, 'nightingale')"
   ]
  },
  {
   "cell_type": "code",
   "execution_count": null,
   "id": "ef76cad3",
   "metadata": {},
   "outputs": [],
   "source": []
  },
  {
   "cell_type": "code",
   "execution_count": null,
   "id": "b2ef6828",
   "metadata": {},
   "outputs": [],
   "source": []
  },
  {
   "cell_type": "code",
   "execution_count": null,
   "id": "a17a2e32",
   "metadata": {},
   "outputs": [],
   "source": []
  }
 ],
 "metadata": {
  "kernelspec": {
   "display_name": "Python 3 (ipykernel)",
   "language": "python",
   "name": "python3"
  },
  "language_info": {
   "codemirror_mode": {
    "name": "ipython",
    "version": 3
   },
   "file_extension": ".py",
   "mimetype": "text/x-python",
   "name": "python",
   "nbconvert_exporter": "python",
   "pygments_lexer": "ipython3",
   "version": "3.10.9"
  }
 },
 "nbformat": 4,
 "nbformat_minor": 5
}
