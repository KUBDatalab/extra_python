{
 "cells": [
  {
   "cell_type": "markdown",
   "id": "5689a98a",
   "metadata": {},
   "source": [
    "I denne notebook henter vi to bøger fra Gutenberg.org og gemmer dem på vores computer.\n",
    "\n",
    "Undervejs bruger vi strenge, lister og tilhørende indbyggende metoder, samt loops."
   ]
  },
  {
   "cell_type": "code",
   "execution_count": 68,
   "id": "69b8b8b6",
   "metadata": {},
   "outputs": [],
   "source": [
    "import urllib.request\n",
    "import re\n",
    "import os\n",
    "from pathlib import Path"
   ]
  },
  {
   "cell_type": "code",
   "execution_count": 69,
   "id": "4bbba48c",
   "metadata": {},
   "outputs": [],
   "source": [
    "# hc andersen eventyr\n",
    "url = 'https://gutenberg.org/cache/epub/1597/pg1597.txt'\n",
    "raw_text_hca = urllib.request.urlopen(url).read().decode()"
   ]
  },
  {
   "cell_type": "code",
   "execution_count": 70,
   "id": "3c66a0a1",
   "metadata": {},
   "outputs": [],
   "source": [
    "#find starten\n",
    "start = raw_text_hca.find(\"ANDERSEN'S FAIRY TALES\") + len(\"ANDERSEN'S FAIRY TALES\")\n",
    "# find slutningen\n",
    "end = raw_text_hca.find('*****')\n",
    "# find det der imellem\n",
    "content = raw_text_hca[start:end]\n",
    "\n",
    "#opdel på hvert eventyr \n",
    "tales = content.split('\\r\\n\\r\\n\\r\\n\\r\\n\\r\\n') # split før overskrift på titel\n",
    "# Filtrer to første item væk, fordi de er ikke relevante\n",
    "tales = tales[2:-1] \n",
    "\n",
    "titles = []\n",
    "for i in tales:\n",
    "    split_text = i.split('\\r\\n\\r') # split efter titel\n",
    "    title = split_text[0] # gem første del af splittet - det er titlen  \n",
    "    titles.append(title) # tilføj titlen til den tomme liste\n",
    "\n",
    "# zip titles og tales (sidste element i titles er ikke relevant)   \n",
    "zip_format = list(zip(titles[:-1], tales))"
   ]
  },
  {
   "cell_type": "code",
   "execution_count": 71,
   "id": "5cc85a49",
   "metadata": {},
   "outputs": [],
   "source": [
    "# sti til mappen med tekster\n",
    "output_folder = Path.cwd() / '../data/txt_files/hca'"
   ]
  },
  {
   "cell_type": "code",
   "execution_count": 72,
   "id": "50f22ce0",
   "metadata": {},
   "outputs": [],
   "source": [
    "# Gem filerne i mappen\n",
    "for i in zip_format:\n",
    "    file_name = i[0] + '.txt'\n",
    "    with open (output_folder / file_name , 'w', encoding='utf-8') as f:\n",
    "        f.write(i[1])"
   ]
  },
  {
   "cell_type": "code",
   "execution_count": 73,
   "id": "11ac7dae",
   "metadata": {},
   "outputs": [],
   "source": [
    "# grimms eventyr\n",
    "url = 'https://www.gutenberg.org/files/2591/2591-0.txt'\n",
    "raw_text_grimm = urllib.request.urlopen(url).read().decode()"
   ]
  },
  {
   "cell_type": "code",
   "execution_count": 74,
   "id": "f09597d6",
   "metadata": {},
   "outputs": [],
   "source": [
    "#find starten\n",
    "start = raw_text_grimm.find('THE BROTHERS GRIMM FAIRY TALES') + len('THE BROTHERS GRIMM FAIRY TALES')\n",
    "# find slutningen\n",
    "end = raw_text_grimm.find('*****')\n",
    "# find det der imellem\n",
    "content = raw_text_grimm[start:end]\n",
    "\n",
    "#opdel på hvert eventyr \n",
    "tales = content.split('\\r\\n\\r\\n\\r\\n\\r\\n\\r\\n') # split før overskrift på titel\n",
    "# Filtrer første item væk, fordi det er tomt\n",
    "tales = tales[1:] \n",
    "\n",
    "titles = []\n",
    "for i in tales:\n",
    "    split_text = i.split('\\r\\n\\r\\n\\r\\n') # split efter titel\n",
    "    title = split_text[0] # gem første del af splittet - det er titlen  \n",
    "    titles.append(title) # tilføj titlen til den tomme liste\n",
    "\n",
    "# zip titles og tales    \n",
    "zip_format = list(zip(titles, tales))"
   ]
  },
  {
   "cell_type": "code",
   "execution_count": 75,
   "id": "c04098e9",
   "metadata": {},
   "outputs": [],
   "source": [
    "# sti til mappen med tekster\n",
    "output_folder = Path.cwd() / '../data/txt_files/grimm'"
   ]
  },
  {
   "cell_type": "code",
   "execution_count": 76,
   "id": "bafb8fac",
   "metadata": {},
   "outputs": [],
   "source": [
    "# Gem filerne i mappen\n",
    "for i in zip_format:\n",
    "    file_name = i[0] + '.txt'\n",
    "    with open (output_folder / file_name , 'w', encoding='utf-8') as f:\n",
    "        f.write(i[1])"
   ]
  },
  {
   "cell_type": "code",
   "execution_count": null,
   "id": "8f89c949",
   "metadata": {},
   "outputs": [],
   "source": []
  }
 ],
 "metadata": {
  "kernelspec": {
   "display_name": "Python 3 (ipykernel)",
   "language": "python",
   "name": "python3"
  },
  "language_info": {
   "codemirror_mode": {
    "name": "ipython",
    "version": 3
   },
   "file_extension": ".py",
   "mimetype": "text/x-python",
   "name": "python",
   "nbconvert_exporter": "python",
   "pygments_lexer": "ipython3",
   "version": "3.10.9"
  }
 },
 "nbformat": 4,
 "nbformat_minor": 5
}
