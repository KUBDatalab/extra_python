{
 "cells": [
  {
   "cell_type": "markdown",
   "id": "08bf8418",
   "metadata": {},
   "source": [
    "# Strenge"
   ]
  },
  {
   "cell_type": "markdown",
   "id": "f8adec32",
   "metadata": {},
   "source": [
    "## Tildel (assign) en streng til en variabel:\n",
    "Når man tildeler en streng (string) til en variabel, gør man det ved at bruge variablens navn efterfulgt af et lighedstegn og strengen. Man kan også sige det på den måde, at man gemmer en værdi i variabelnavnet. \n",
    "\n",
    "F.eks. url = \"https://sciencedata.dk/shared/b01a61ba6a4a634fd687668d4e3ab887?download\"\n",
    "\n",
    "Url-variablen indeholder værdien til højre for lighedstegnet."
   ]
  },
  {
   "cell_type": "code",
   "execution_count": null,
   "id": "10416fb7",
   "metadata": {},
   "outputs": [],
   "source": [
    "import urllib.request\n",
    "url = \"https://sciencedata.dk/shared/b01a61ba6a4a634fd687668d4e3ab887?download\"\n",
    "raw_text = urllib.request.urlopen(url).read().decode(encoding='utf-8-sig')"
   ]
  },
  {
   "cell_type": "code",
   "execution_count": null,
   "id": "b4c245f8",
   "metadata": {},
   "outputs": [],
   "source": [
    "raw_text"
   ]
  },
  {
   "cell_type": "markdown",
   "id": "30e63a58",
   "metadata": {},
   "source": [
    "## En tekststreng er en række¶\n",
    "En tekststreng er en række elementer, der repræsenterer Unicode-tegn.\n",
    "\n",
    "Firkantede parenteser giver adgang til elementer i strengen.\n",
    "\n",
    "F.eks. returnerer raw_text[0] tegnet på index position 1 (husk, at det første tegn har position 0)"
   ]
  },
  {
   "cell_type": "code",
   "execution_count": null,
   "id": "49683d40",
   "metadata": {},
   "outputs": [],
   "source": [
    "raw_text[0]"
   ]
  },
  {
   "cell_type": "markdown",
   "id": "59ad4827",
   "metadata": {},
   "source": [
    "## At slice\n",
    "\n",
    "Du kan returnere en række tegn ved at bruge en slice-teknik, der består i at du angiver et startindex og et slutindex, adskilt af et et kolon \n",
    "\n",
    "F.eks. henter raw_text[0:100] elementerne fra startindext 0 til slutindex 100, der ikke er inkluderet."
   ]
  },
  {
   "cell_type": "code",
   "execution_count": null,
   "id": "9b3909a6",
   "metadata": {},
   "outputs": [],
   "source": [
    "raw_text[0:100]"
   ]
  },
  {
   "cell_type": "markdown",
   "id": "094f28ce",
   "metadata": {},
   "source": [
    "Ved at udelade slutindekset vil rækken gå til slutningen:"
   ]
  },
  {
   "cell_type": "code",
   "execution_count": null,
   "id": "e76d75b4",
   "metadata": {},
   "outputs": [],
   "source": [
    "raw_text[11000:]"
   ]
  },
  {
   "cell_type": "markdown",
   "id": "5a06ebca",
   "metadata": {},
   "source": [
    "Du kan også bruge negative indeks til at slice til enden af strengen:"
   ]
  },
  {
   "cell_type": "code",
   "execution_count": null,
   "id": "40ec83d0",
   "metadata": {},
   "outputs": [],
   "source": [
    "raw_text[-100:]"
   ]
  },
  {
   "cell_type": "markdown",
   "id": "399eb469",
   "metadata": {},
   "source": [
    "## At loope over en tekststreng\n",
    "Med et loop kan vi også løbe gennem elementerne i en streng."
   ]
  },
  {
   "cell_type": "code",
   "execution_count": null,
   "id": "ab5d9c69",
   "metadata": {},
   "outputs": [],
   "source": [
    "new_text = raw_text[0:10]\n",
    "for i in new_text:\n",
    "    print(i)"
   ]
  },
  {
   "cell_type": "markdown",
   "id": "31725a30",
   "metadata": {},
   "source": [
    "## Funktionen len() og strengmetoder\n",
    "### len()\n",
    "Længden på en streng kan du finde vha. len() funktionen."
   ]
  },
  {
   "cell_type": "code",
   "execution_count": null,
   "id": "a4e043e3",
   "metadata": {},
   "outputs": [],
   "source": [
    "lenght = len(raw_text)\n",
    "print (f'Ashputtel is {lenght} signs long ( with whitespace ) ')"
   ]
  },
  {
   "cell_type": "markdown",
   "id": "803dfb3c",
   "metadata": {},
   "source": [
    "Ovenfor bruger vi F-strenge til at indføre indhold af variabler i en streng."
   ]
  },
  {
   "cell_type": "code",
   "execution_count": null,
   "id": "bc8c547b",
   "metadata": {},
   "outputs": [],
   "source": [
    "tale = 'Ashputtel'\n",
    "lenght = len(raw_text)\n",
    "print(f\"The {tale} is {lenght} signs long ( with whitespace )\")"
   ]
  },
  {
   "cell_type": "markdown",
   "id": "87d7b2e9",
   "metadata": {},
   "source": [
    "###  .lower() metoden\n",
    "\n",
    ".lower() returnerer en streng af små bogstaver.\n",
    "\n",
    ".upper() gør det modsatte."
   ]
  },
  {
   "cell_type": "code",
   "execution_count": null,
   "id": "578992c1",
   "metadata": {},
   "outputs": [],
   "source": [
    "lower_text = raw_text.lower()\n",
    "print(lower_text[0:100])"
   ]
  },
  {
   "cell_type": "markdown",
   "id": "5bd8ecd6",
   "metadata": {},
   "source": [
    "### .replace() metoden\n",
    ".replace() metoden returner en streng, hvor et specificeret tegn eller en sætning bliver erstattet af et andet specificeret tegn eller sætning.\n",
    "\n",
    "f.eks. erstatter lower_text.replace('.', ' ') alle punktummer med et mellemrum.\n",
    "\n",
    "replace metoden kan f.eks. bruges til at rense teksten for grammatiske tegn."
   ]
  },
  {
   "cell_type": "code",
   "execution_count": null,
   "id": "906a3186",
   "metadata": {},
   "outputs": [],
   "source": [
    "clean_string = lower_text.replace('.', ' ').replace(',', ' ').replace(';', ' ')\\\n",
    "                .replace('!', ' ').replace('‘', ' ').replace('_', ' ')\\\n",
    "                .replace('--', '')\n",
    "\n",
    "clean_string"
   ]
  },
  {
   "cell_type": "markdown",
   "id": "51f10323",
   "metadata": {},
   "source": [
    "### .count metoden()"
   ]
  },
  {
   "cell_type": "code",
   "execution_count": null,
   "id": "f94e0b6e",
   "metadata": {},
   "outputs": [],
   "source": [
    "word = 'bird'\n",
    "word_count = clean_string.count(word) \n",
    "word_count"
   ]
  },
  {
   "cell_type": "markdown",
   "id": "8b604149",
   "metadata": {},
   "source": [
    "###  .split() metoden\n",
    ".split() returner en ordliste, hvor hvert element er et ord (vi vender tilbage til lister). Som default splitter metoden på mellemrum, men man kan også splitte på andre tegn, som for eksempel punktum. Det ser således ud: .split(\".\").\n",
    "\n",
    "Split metoden bruger man f.eks. til at bygge en ordliste, og så kan man tælle, hvormange ord der er i teksten ved hjælp af ordlisten og len() funktionen,"
   ]
  },
  {
   "cell_type": "code",
   "execution_count": null,
   "id": "215147d2",
   "metadata": {},
   "outputs": [],
   "source": [
    "word_list = clean_string.split()\n",
    "word_list"
   ]
  },
  {
   "cell_type": "markdown",
   "id": "e88cd446",
   "metadata": {},
   "source": [
    "# Oversigt over streng-metoder\n",
    "Klik på linket og få overblik over de streng-metoder, der er indbygget i Python: https://www.w3schools.com/python/python_strings_methods.asp"
   ]
  },
  {
   "cell_type": "markdown",
   "id": "7d8696da",
   "metadata": {},
   "source": [
    "# Lister\n",
    "I lister kan du gemme en samling af elementer i en enkelt variabel. Det kan f.eks. være en ordliste, som du gemmer i variablen \"word_list\".\n",
    "\n",
    "Lister er kendetegnet ved at de firkantede parenteser. Hvis der er tale om en ordliste kunne den se således ud: \n",
    "\n",
    "word_list = ['and', 'soon', 'a', 'little', 'bird', 'came']\n",
    "\n",
    "I ordlisten består hvert element af en tekststreng, som er kendetegnet ved citationstegnene. Hvert element er adskilt af et komma. Listen begynder og ender med firkantene parenteser. \n",
    "\n",
    "Elementerne  indekseres; det første element har indeks [0], det andet element har indeks [1] osv.\n",
    "\n",
    "På lister kan du også bruge negativ indeksering. Det vil sige, at tællingen starter fra slutningen.\n",
    "\n",
    "[-1] er det sidste element og [-2] er det næstsidste element osv.\n",
    "\n",
    "Du kan også vælge et indexinterval og angive, hvor intervallet starter, og hvor det slutter.\n",
    "\n",
    "På den måde kan du returnere en afgrænset del af listen.\n",
    "\n",
    "Hvis du f.eks. vil returnere de første 10 ord fra listen, ser det således ud."
   ]
  },
  {
   "cell_type": "code",
   "execution_count": null,
   "id": "0068196a",
   "metadata": {},
   "outputs": [],
   "source": [
    "word_list[0:10]"
   ]
  },
  {
   "cell_type": "markdown",
   "id": "1bd6fe8b",
   "metadata": {},
   "source": [
    "## len() functionen og lister\n",
    "len() functionen fungerer også sammen med lister og kan returnere antallet af elementer i listen."
   ]
  },
  {
   "cell_type": "code",
   "execution_count": null,
   "id": "0a0d31c0",
   "metadata": {},
   "outputs": [],
   "source": [
    "total_words = len(word_list)\n",
    "print (f'Ordlisten består af {total_words} ord.' )\n",
    "\n",
    "word = 'bird'\n",
    "word_count = clean_string.count(word)\n",
    "\n",
    "res = round((word_count / total_words) * 100, 2)\n",
    "\n",
    "print (f'Ordet {word} udgør {res} % af hele teksten.')"
   ]
  },
  {
   "cell_type": "markdown",
   "id": "2e9d1d34",
   "metadata": {},
   "source": [
    "## Tilføj (append) elementer til liste\n",
    "\n",
    "Du kan tilføje nye elementer til en liste med append(). De nye elementer bliver tilføjet i slutningen af listen."
   ]
  },
  {
   "cell_type": "code",
   "execution_count": null,
   "id": "2b631e9e",
   "metadata": {},
   "outputs": [],
   "source": [
    "the_end = word_list[-20:]\n",
    "the_end.append('The End')\n",
    "the_end"
   ]
  },
  {
   "cell_type": "markdown",
   "id": "328b94e8",
   "metadata": {},
   "source": [
    "## Oversigt over list metoder\n",
    "Klik på linket og få overblik over de list-metoder, der er indbygget i Python:  https://www.w3schools.com/python/python_lists_methods.asp"
   ]
  },
  {
   "cell_type": "markdown",
   "id": "ea7b26e6",
   "metadata": {},
   "source": [
    "# Dictionary til at gemme hyppigheden af ord\n",
    "Vi laver en dictionary, som vi bruger til at hyppigheden af ord. \n",
    "\n",
    "Tænk på en dictionary som en slags liste, der kan gemme par af ting. I dette tilfælde vi vi bygge en dictionary til at holde styr på, hvor mange gange hvert ord optræder i et stykke tekst.\n",
    "\n",
    "En dictionary er kendetegnet af krøllede parenteser og af at bestå af nøgler (keys) og værdier (values)."
   ]
  },
  {
   "cell_type": "code",
   "execution_count": null,
   "id": "55da7b59",
   "metadata": {},
   "outputs": [],
   "source": [
    "# Opret en tom dictionary\n",
    "word_dict = {}"
   ]
  },
  {
   "cell_type": "markdown",
   "id": "cdf226fa",
   "metadata": {},
   "source": [
    "Ved hjælp af et for loop opretter vi keys af alle ordene i ordlisten. I første omgang tilføjer vi værdien 0 til alle. "
   ]
  },
  {
   "cell_type": "code",
   "execution_count": null,
   "id": "5bece798",
   "metadata": {},
   "outputs": [],
   "source": [
    "for word in word_list:\n",
    "    word_dict[word] = 0\n",
    "    \n",
    "word_dict "
   ]
  },
  {
   "cell_type": "markdown",
   "id": "e4874cfb",
   "metadata": {},
   "source": [
    ".keys() metoden returer en liste med alle keys, og .values() metoden returnere en liste med alle værdierne."
   ]
  },
  {
   "cell_type": "code",
   "execution_count": null,
   "id": "a7a144c4",
   "metadata": {},
   "outputs": [],
   "source": [
    "word_dict.keys()"
   ]
  },
  {
   "cell_type": "code",
   "execution_count": null,
   "id": "c1754690",
   "metadata": {},
   "outputs": [],
   "source": [
    "word_dict.values()"
   ]
  },
  {
   "cell_type": "markdown",
   "id": "459ad205",
   "metadata": {},
   "source": [
    "### .get() metoden\n",
    "For at kunne sammentælle antal af gange som hvert ord optræder, skal vi have fat i dictionary metoden .get(), og vi skal se nærmere på metodens parametre.\n",
    "\n",
    "Parameter: Key. Beskrivelse: Påkrævet. Nøglenavnet på den vare, du vil returnere værdien fra.\n",
    "\n",
    "Parameter: Value. Beskrivelse:  **Valgfri. En værdi, der skal returneres, hvis den angivne nøgle ikke eksisterer.**\n"
   ]
  },
  {
   "cell_type": "code",
   "execution_count": null,
   "id": "03011259",
   "metadata": {},
   "outputs": [],
   "source": [
    "word_dict = {}  # Dictionary to store word counts\n",
    "    \n",
    "for word in word_list:\n",
    "    word_dict[word] = word_dict.get(word, 0) + 1\n",
    "    \n",
    "word_dict "
   ]
  },
  {
   "cell_type": "markdown",
   "id": "b7ef38f3",
   "metadata": {},
   "source": [
    "I første linje opretter en tom dictionary, som vi kalder word_dict. \n",
    "\n",
    "Herefter er der et loop, der går gennem hvert ord i ordlisten, der indeholder alle de ord, vi ønsker at tælle i vores tekst.\n",
    "For hvert ord på listen gør vi tre ting:\n",
    "\n",
    "- Vi kigger i word_dict for at se, om vi allerede har det ord derinde.\n",
    "- Hvis vi har ordet, tilføjer vi 1 til antallet af det ord i ordbogen.\n",
    "- Hvis vi ikke har ordet endnu, starter vi optællingen ved 0 og lægger 1 til det.\n",
    "\n",
    "\n",
    "Npår vi har gennemgået alle ordene, vil word_dict indeholde sammentællinger af, hvor ofte de forskellige ord blev brugt.\n",
    "\n",
    "Så word_dict er en måde at holde styr på, hvor mange gange hvert ord forekommer i teksten. Det er ligesom en liste, der viser hyppigheden af ord."
   ]
  }
 ],
 "metadata": {
  "kernelspec": {
   "display_name": "Python 3 (ipykernel)",
   "language": "python",
   "name": "python3"
  },
  "language_info": {
   "codemirror_mode": {
    "name": "ipython",
    "version": 3
   },
   "file_extension": ".py",
   "mimetype": "text/x-python",
   "name": "python",
   "nbconvert_exporter": "python",
   "pygments_lexer": "ipython3",
   "version": "3.10.9"
  }
 },
 "nbformat": 4,
 "nbformat_minor": 5
}
