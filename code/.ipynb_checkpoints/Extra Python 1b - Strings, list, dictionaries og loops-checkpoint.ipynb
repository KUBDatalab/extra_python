{
 "cells": [
  {
   "cell_type": "markdown",
   "id": "0d91c106",
   "metadata": {},
   "source": [
    "In this notebook we download two books from Gutenberg.org and save them to our computer.\n",
    "\n",
    "1. [Andersen's Fairy Tales](https://gutenberg.org/ebooks/1597)\n",
    "2. [Grimms' Fairy Tales](https://gutenberg.org/ebooks/2591)\n",
    "\n",
    "Along the way, we use strings, lists and associated built-in methods, as well as loops."
   ]
  },
  {
   "cell_type": "code",
   "execution_count": 1,
   "id": "7ee85e0c",
   "metadata": {},
   "outputs": [],
   "source": [
    "# Import Request - read more on https://requests.readthedocs.io/en/latest/user/quickstart/\n",
    "import requests"
   ]
  },
  {
   "cell_type": "markdown",
   "id": "c59434ba-9d1f-4d29-9fb6-27a86a5967ec",
   "metadata": {},
   "source": [
    "# Get HC Andersens fairy tales"
   ]
  },
  {
   "cell_type": "code",
   "execution_count": 4,
   "id": "e2f71bc2",
   "metadata": {},
   "outputs": [],
   "source": [
    "# hc andersens fairy tales\n",
    "response = requests.get('https://gutenberg.org/cache/epub/1597/pg1597.txt')\n",
    "# read response\n",
    "raw_text_hca = response.text"
   ]
  },
  {
   "cell_type": "code",
   "execution_count": 6,
   "id": "1a984998",
   "metadata": {},
   "outputs": [],
   "source": [
    "# find the start\n",
    "start = raw_text_hca.find(\"ANDERSEN'S FAIRY TALES\") + len(\"ANDERSEN'S FAIRY TALES\")\n",
    "\n",
    "# find end\n",
    "end = raw_text_hca.find(\"End of Project Gutenberg's Andersen's Fairy Tales, by Hans Christian Andersen\")\n",
    "\n",
    "# find what is between start and end\n",
    "content = raw_text_hca[start:end]\n",
    "\n",
    "# Split on every fairy tale \n",
    "tales = content.split('\\r\\n\\r\\n\\r\\n\\r\\n\\r\\n') # split before title headline\n",
    "\n",
    "# Filter the three first items away; they are not relevant\n",
    "tales = tales[3:-1] \n",
    "\n",
    "titles = []\n",
    "for i in tales:\n",
    "    split_text = i.split('\\r\\n\\r') # split after title\n",
    "    title = split_text[0] # Save first part of the split - that is the title  \n",
    "    titles.append(title) # add the title to the empty list\n",
    "\n",
    "# zip titles and tales (last element in titles is not relevant)   \n",
    "zip_format = list(zip(titles[:-1], tales))"
   ]
  },
  {
   "cell_type": "code",
   "execution_count": 7,
   "id": "16aba751",
   "metadata": {},
   "outputs": [],
   "source": [
    "from pathlib import Path\n",
    "\n",
    "# path to directory with texts\n",
    "output_folder = Path.cwd() / '../data/txt_files/hca'"
   ]
  },
  {
   "cell_type": "code",
   "execution_count": 8,
   "id": "4945fb71",
   "metadata": {},
   "outputs": [],
   "source": [
    "# Save the files in the folder\n",
    "for i in zip_format:\n",
    "    file_name = i[0] + '.txt'\n",
    "    with open (output_folder / file_name , 'w', encoding='utf-8') as f:\n",
    "        f.write(i[1])"
   ]
  },
  {
   "cell_type": "markdown",
   "id": "67ec076e-7a2f-43e9-a70d-0a2fa2d2a7f9",
   "metadata": {},
   "source": [
    "# Get Grimms' Fairy Tales"
   ]
  },
  {
   "cell_type": "code",
   "execution_count": 12,
   "id": "def144e5-ccbd-4480-bb22-b6c071532d0e",
   "metadata": {},
   "outputs": [],
   "source": [
    "# Import Request - read more on https://requests.readthedocs.io/en/latest/user/quickstart/\n",
    "import requests"
   ]
  },
  {
   "cell_type": "code",
   "execution_count": 13,
   "id": "92242ac2",
   "metadata": {},
   "outputs": [],
   "source": [
    "response = requests.get('https://gutenberg.org/cache/epub/2591/pg2591.txt') # or 'https://www.gutenberg.org/files/2591/2591-0.txt'\n",
    "\n",
    "raw_text_grimm = response.text"
   ]
  },
  {
   "cell_type": "code",
   "execution_count": 14,
   "id": "39439164",
   "metadata": {},
   "outputs": [],
   "source": [
    "#find the start \n",
    "start = raw_text_grimm.find('THE BROTHERS GRIMM FAIRY TALES') + len('THE BROTHERS GRIMM FAIRY TALES')\n",
    "\n",
    "# find the end\n",
    "end = raw_text_grimm.find('*****')\n",
    "\n",
    "# find what is between\n",
    "content = raw_text_grimm[start:end]\n",
    "\n",
    "# split on every fairy tale \n",
    "tales = content.split('\\r\\n\\r\\n\\r\\n\\r\\n\\r\\n') # split før overskrift på titel\n",
    "# Filter away the first item, as it is empty\n",
    "tales = tales[1:] \n",
    "\n",
    "titles = []\n",
    "for i in tales:\n",
    "    split_text = i.split('\\r\\n\\r\\n\\r\\n') # split after title\n",
    "    title = split_text[0] # save first part of the split - that is the title  \n",
    "    titles.append(title) # append the title to the empty list\n",
    "\n",
    "# zip titles and tales    \n",
    "zip_format = list(zip(titles, tales))"
   ]
  },
  {
   "cell_type": "code",
   "execution_count": 18,
   "id": "ed42fd87",
   "metadata": {},
   "outputs": [],
   "source": [
    "from pathlib import Path\n",
    "\n",
    "# path to folder with texts\n",
    "output_folder = Path.cwd() / '../data/txt_files/grimm'"
   ]
  },
  {
   "cell_type": "code",
   "execution_count": 17,
   "id": "a415d77d",
   "metadata": {},
   "outputs": [],
   "source": [
    "# Store the files in the folder\n",
    "for i in zip_format:\n",
    "    file_name = i[0] + '.txt'\n",
    "    with open (output_folder / file_name , 'w', encoding='utf-8') as f:\n",
    "        f.write(i[1])"
   ]
  }
 ],
 "metadata": {
  "kernelspec": {
   "display_name": "Python 3 (ipykernel)",
   "language": "python",
   "name": "python3"
  },
  "language_info": {
   "codemirror_mode": {
    "name": "ipython",
    "version": 3
   },
   "file_extension": ".py",
   "mimetype": "text/x-python",
   "name": "python",
   "nbconvert_exporter": "python",
   "pygments_lexer": "ipython3",
   "version": "3.12.4"
  }
 },
 "nbformat": 4,
 "nbformat_minor": 5
}
