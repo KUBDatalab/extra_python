{
 "cells": [
  {
   "cell_type": "markdown",
   "metadata": {},
   "source": [
    "# RegEx og Frankenstein"
   ]
  },
  {
   "cell_type": "markdown",
   "metadata": {},
   "source": [
    "The Online RegEx tester, [regex101](https://regex101.com/), is an absolutely fantastic helpful site for learning how to use regular expressions (Regex).\n",
    "\n",
    "[W3schools](https://www.w3schools.com/python/python_regex.asp) also has a very useful page about RegEx.\n",
    "\n",
    "Regex's use is very widespread because RegEx is super smart in relation to text processing, because it can be used to perform advanced searches. RegEx is used for search engines and for search and replace functions. Working with RegEx is definitely an experience in itself, but when you get an insight into the scope of tasks that can be solved with RegEx, you realize that it is an incredibly good tool.\n",
    "\n",
    "This notebook doesn't try to teach you everything about RegEx, but it does try to create learning about it, and only a few of the possibilities are illustrated below.\n",
    "\n",
    "In addition to RegEx, this notebook contains many loops and list comprehensions, so that way you can also get an insight into how to write this sort of thing."
   ]
  },
  {
   "cell_type": "markdown",
   "metadata": {},
   "source": [
    "## Get some data"
   ]
  },
  {
   "cell_type": "code",
   "execution_count": 3,
   "metadata": {},
   "outputs": [],
   "source": [
    "import urllib.request \n",
    "url = 'https://gutenberg.org/cache/epub/84/pg84.txt'\n",
    "raw_text = urllib.request.urlopen(url).read().decode()\n",
    "text_start = raw_text.find('*** START OF THE PROJECT GUTENBERG EBOOK FRANKENSTEIN; OR, THE MODERN PROMETHEUS ***')\n",
    "text_start = text_start + len('*** START OF THE PROJECT GUTENBERG EBOOK FRANKENSTEIN; OR, THE MODERN PROMETHEUS ***')\n",
    "text_end = raw_text.find('*** END OF THE PROJECT GUTENBERG EBOOK FRANKENSTEIN; OR, THE MODERN PROMETHEUS ***')\n",
    "text = raw_text[text_start:text_end].strip()"
   ]
  },
  {
   "cell_type": "code",
   "execution_count": 4,
   "metadata": {},
   "outputs": [
    {
     "data": {
      "text/plain": [
       "'Frankenstein;\\r\\n\\r\\nor, the Modern Prometheus\\r\\n\\r\\nby Mary Wollstonecraft (Godwin) Shelley\\r\\n\\r\\n\\r\\n CONTENTS'"
      ]
     },
     "execution_count": 4,
     "metadata": {},
     "output_type": "execute_result"
    }
   ],
   "source": [
    "text[0:100]"
   ]
  },
  {
   "cell_type": "markdown",
   "metadata": {},
   "source": [
    "# Meta characters \\b \\S og \\w and the + sign\n",
    "\n",
    "We often need to clean the texts of symbols such as commas and full stops, etc.\n",
    "\n",
    "Cleaning of text can be done in several ways. Below we try out a few of the ways. We begin by importing RegEx (import re)."
   ]
  },
  {
   "cell_type": "code",
   "execution_count": 5,
   "metadata": {},
   "outputs": [],
   "source": [
    "import re"
   ]
  },
  {
   "cell_type": "markdown",
   "metadata": {},
   "source": [
    "## First way\n",
    "The RegEx pattern is '\\b\\S+\\b'.\n",
    "\n",
    "\\b : \\b finds the position at the boundary of a word (word boundary).\n",
    "\\S: \\S matches any non-space\n",
    "+: + matches the previous character between one and an unlimited number of times, as many times as possible until the next character. They say the plus is greedy.\n",
    "\\b : \\b finds the position at the boundary of a word (word boundary).\n",
    "\n",
    "When you set \\b\\S+\\b, you match from, you match all \"non-space characters\" as well as underscores, but not symbols such as periods, commas, question marks.\n",
    "\n",
    "\n",
    "## Secound way\n",
    "\\w: \\w matches any alphabetic letter (uppercase and lowercase), any number, or an underscore (_).\n",
    "+: + matches the preceding character one or more times.\n",
    "\n",
    "When you put \\w+ together, you match whole words composed of letters, digits and underscores."
   ]
  },
  {
   "cell_type": "code",
   "execution_count": 6,
   "metadata": {},
   "outputs": [],
   "source": [
    "def clean_text_1(text):\n",
    "    # Use \\w+ regex pattern to extract words\n",
    "    words = re.findall(r'\\b\\S+\\b', text)\n",
    "\n",
    "    # Join the extracted words into a cleaned text\n",
    "    cleaned_text = ' '.join(words)\n",
    "\n",
    "    return cleaned_text\n",
    "\n",
    "\n",
    "def clean_text_2(text):\n",
    "    # Use \\w+ regex pattern to extract words\n",
    "    words = re.findall(r'\\w+', text)\n",
    "\n",
    "    # Join the extracted words into a cleaned text\n",
    "    cleaned_text = ' '.join(words)\n",
    "\n",
    "    return cleaned_text"
   ]
  },
  {
   "cell_type": "code",
   "execution_count": 7,
   "metadata": {},
   "outputs": [
    {
     "name": "stdout",
     "output_type": "stream",
     "text": [
      "Frankenstein or the Modern Prometheus by Mary Wollstonecraft Godwin Shelley CONTENTS Letter 1 Letter\n"
     ]
    }
   ],
   "source": [
    "cleaned_text = clean_text_1(text)\n",
    "\n",
    "print(cleaned_text[:100])"
   ]
  },
  {
   "cell_type": "code",
   "execution_count": 8,
   "metadata": {},
   "outputs": [
    {
     "name": "stdout",
     "output_type": "stream",
     "text": [
      "Frankenstein or the Modern Prometheus by Mary Wollstonecraft Godwin Shelley CONTENTS Letter 1 Letter\n"
     ]
    }
   ],
   "source": [
    "cleaned_text = clean_text_2(text)\n",
    "\n",
    "print(cleaned_text[:100])"
   ]
  },
  {
   "cell_type": "markdown",
   "metadata": {},
   "source": [
    "We must try to relate to the results and compare the results.\n",
    "\n",
    "Search e.g. after There—for\n",
    "In the first method, the There-for remains in a word. In the second method, it becomes two words.\n",
    "\n",
    "Search e.g. after About two o'clock.\n",
    "\n",
    "In the first method, o'clock remains a word. In the second method, it becomes two words \"o clock\".\n",
    "\n",
    "Both methods leave us with underscores."
   ]
  },
  {
   "cell_type": "markdown",
   "metadata": {},
   "source": [
    "# w+ along with \\b\n",
    "\n",
    "Why doesn't anything happen on a Friday?\n",
    "\n",
    "Find words with special endings, e.g. _day_, can be a help to gain insight into where and when the literature takes place.\n",
    "\n",
    "You can also use the endings to find grammatical forms, e.g. words with a long affix will be relatively easy to identify."
   ]
  },
  {
   "cell_type": "code",
   "execution_count": 9,
   "metadata": {},
   "outputs": [
    {
     "name": "stdout",
     "output_type": "stream",
     "text": [
      "['yesterday', 'holiday', 'Monday', 'Yesterday', 'Sunday', 'Thursday', 'today', 'today', 'yesterday', 'yesterday', 'everyday']\n"
     ]
    }
   ],
   "source": [
    "ending = re.findall(r'\\w+day\\b', text)\n",
    "print(ending)"
   ]
  },
  {
   "cell_type": "markdown",
   "metadata": {},
   "source": []
  },
  {
   "cell_type": "markdown",
   "metadata": {},
   "source": [
    "# More metacharacters, as well as pipes, lists and question marks\n",
    "\n",
    "In literature, comparisons are often used to illustrate points more clearly by putting pictures on what you want to describe. Comparisons also contribute to making the text more lively and interesting.\n",
    "\n",
    "But regex makes it a manageable task to retrieve examples of comparisons in Grimm's fairy tales, because we can find text strings that follow the pattern of a typical comparison.\n",
    "\n",
    "We can illustrate it in the following way. We look for phrases whose pattern is either as a ... or as an ....\n",
    "\n",
    "The RegEx pattern can be written like this:\n",
    "\n",
    "'as\\sa\\s\\w+'\n",
    "\n",
    "The word 'as' is followed by \\s, meaning white space, followed by a, then followed by \\s, followed by \\w, meaning word charater, followed by + meaning \"one or more of the previous\".\n",
    "\n",
    "\n",
    "If you also want to search for \"as an ...\" there are two ways to do it.\n",
    "\n",
    "\n",
    "First way is to use pipe |. Pipe means \"or\". The regex pattern will then look like this: 'as\\sa\\s\\w+|as\\san\\s\\w+'\n",
    "\n",
    "Another way is to use the list character []?\n",
    "\n",
    "It looks like this: 'as\\sa[n]?\\s\\w+'. In the list, letters can be added that can stand in that place in the word. The question mark indicates that the letter may or may not be there."
   ]
  },
  {
   "cell_type": "code",
   "execution_count": 10,
   "metadata": {},
   "outputs": [
    {
     "name": "stdout",
     "output_type": "stream",
     "text": [
      "['as a steady', 'as a child', 'as a most', 'as a Turk', 'as a remarkably', 'as a human', 'as a little', 'as a brother', 'as a double', 'as a halo', 'as a merchant', 'as a considerable', 'as a sense', 'as a show', 'as a fair', 'as a restorative', 'as a necessity', 'as a German', 'as a boy', 'as a promise', 'as a deformed', 'as a strong', 'as a narrow', 'as a little', 'as a dream', 'as a certain', 'as a bold', 'as a mystery', 'as a most', 'as a proof', 'as a tendency', 'as a divine', 'as a widow', 'as a servant', 'as a great', 'as a judgement', 'as a Roman', 'as a miniature', 'as a new', 'as a strange', 'as a girl', 'as a proof', 'as a dire', 'as a murderer', 'as a wretch', 'as a creature', 'as a murderess', 'as a wreck', 'as a lullaby', 'as a poor', 'as a new', 'as a little', 'as a small', 'as a lovely', 'as a lady', 'as a guide', 'as a vagabond', 'as a Turkish', 'as a Christian', 'as a boarder', 'as a distant', 'as a listener', 'as a true', 'as a luxury', 'as a fool', 'as a recompense', 'as a portrait', 'as a right', 'as a being', 'as a scene', 'as a soul', 'as a being', 'as a new', 'as a place', 'as a monotonous', 'as a reality', 'as a task', 'as a thing', 'as a place', 'as a very', 'as a hired', 'as a dream', 'as a new', 'as a presumption', 'as a momentary', 'as a criminal', 'as a torpor', 'as a shattered', 'as a mere', 'as a delusion', 'as a mockery', 'as a great', 'as a magistrate', 'as a man', 'as a beast', 'as a frenzy', 'as a nurse', 'as a task', 'as a week', 'as a southern', 'as a rock']\n"
     ]
    }
   ],
   "source": [
    "comparison = re.findall(r'as\\sa\\s\\w+', cleaned_text)\n",
    "print (comparison)"
   ]
  },
  {
   "cell_type": "code",
   "execution_count": 11,
   "metadata": {},
   "outputs": [
    {
     "name": "stdout",
     "output_type": "stream",
     "text": [
      "['as a steady', 'as a child', 'as an under', 'as a most', 'as a Turk', 'as a remarkably', 'as a human', 'as a little', 'as a brother', 'as a double', 'as a halo', 'as a merchant', 'as a considerable', 'as a sense', 'as a show', 'as a fair', 'as a restorative', 'as an infant', 'as a necessity', 'as a German', 'as a boy', 'as an inferior', 'as a promise', 'as a deformed', 'as a strong', 'as a narrow', 'as an uncouth', 'as a little', 'as a dream', 'as a certain', 'as an easier', 'as a bold', 'as a mystery', 'as a most', 'as a proof', 'as a tendency', 'as a divine', 'as an odious', 'as a widow', 'as a servant', 'as a great', 'as a judgement', 'as a Roman', 'as an irresistible', 'as an historical', 'as an air', 'as a miniature', 'as a new', 'as a strange', 'as a girl', 'as a proof', 'as a dire', 'as a murderer', 'as a wretch', 'as a creature', 'as a murderess', 'as a wreck', 'as a lullaby', 'as a poor', 'as a new', 'as a little', 'as a small', 'as a lovely', 'as a lady', 'as a guide', 'as a vagabond', 'as a Turkish', 'as a Christian', 'as a boarder', 'as a distant', 'as a listener', 'as a true', 'as an excellent', 'as a luxury', 'as a fool', 'as a recompense', 'as a portrait', 'as a right', 'as a being', 'as a scene', 'as a soul', 'as a being', 'as an extreme', 'as a new', 'as a place', 'as a monotonous', 'as an insuperable', 'as a reality', 'as a task', 'as a thing', 'as a place', 'as a very', 'as a hired', 'as a dream', 'as a new', 'as a presumption', 'as a momentary', 'as an agitation', 'as a criminal', 'as a torpor', 'as a shattered', 'as a mere', 'as an event', 'as a delusion', 'as an occurrence', 'as a mockery', 'as a great', 'as a magistrate', 'as a man', 'as a beast', 'as a frenzy', 'as a nurse', 'as a task', 'as a week', 'as a southern', 'as a rock']\n"
     ]
    }
   ],
   "source": [
    "comparison = re.findall(r'as\\sa\\s\\w+|as\\san\\s\\w+', cleaned_text)\n",
    "print (comparison)"
   ]
  },
  {
   "cell_type": "code",
   "execution_count": 12,
   "metadata": {},
   "outputs": [
    {
     "name": "stdout",
     "output_type": "stream",
     "text": [
      "['as a steady', 'as a child', 'as an under', 'as a most', 'as a Turk', 'as a remarkably', 'as a human', 'as a little', 'as a brother', 'as a double', 'as a halo', 'as a merchant', 'as a considerable', 'as a sense', 'as a show', 'as a fair', 'as a restorative', 'as an infant', 'as a necessity', 'as a German', 'as a boy', 'as an inferior', 'as a promise', 'as a deformed', 'as a strong', 'as a narrow', 'as an uncouth', 'as a little', 'as a dream', 'as a certain', 'as an easier', 'as a bold', 'as a mystery', 'as a most', 'as a proof', 'as a tendency', 'as a divine', 'as an odious', 'as a widow', 'as a servant', 'as a great', 'as a judgement', 'as a Roman', 'as an irresistible', 'as an historical', 'as an air', 'as a miniature', 'as a new', 'as a strange', 'as a girl', 'as a proof', 'as a dire', 'as a murderer', 'as a wretch', 'as a creature', 'as a murderess', 'as a wreck', 'as a lullaby', 'as a poor', 'as a new', 'as a little', 'as a small', 'as a lovely', 'as a lady', 'as a guide', 'as a vagabond', 'as a Turkish', 'as a Christian', 'as a boarder', 'as a distant', 'as a listener', 'as a true', 'as an excellent', 'as a luxury', 'as a fool', 'as a recompense', 'as a portrait', 'as a right', 'as a being', 'as a scene', 'as a soul', 'as a being', 'as an extreme', 'as a new', 'as a place', 'as a monotonous', 'as an insuperable', 'as a reality', 'as a task', 'as a thing', 'as a place', 'as a very', 'as a hired', 'as a dream', 'as a new', 'as a presumption', 'as a momentary', 'as an agitation', 'as a criminal', 'as a torpor', 'as a shattered', 'as a mere', 'as an event', 'as a delusion', 'as an occurrence', 'as a mockery', 'as a great', 'as a magistrate', 'as a man', 'as a beast', 'as a frenzy', 'as a nurse', 'as a task', 'as a week', 'as a southern', 'as a rock']\n"
     ]
    }
   ],
   "source": [
    "comparison = re.findall(r'as\\sa[n]?\\s\\w+', cleaned_text)\n",
    "print (comparison)"
   ]
  },
  {
   "cell_type": "markdown",
   "metadata": {},
   "source": [
    "# Curly brackets\n",
    "\n",
    "Keyword-in-context, contexts or find a text snippet based on keywords and a range.\n",
    "\n",
    "We want to find text extracts that contain Turk or Roman, because we are actually interested in pointing down in the text and seeing how exactly the terms are used.\n",
    "\n",
    "For this we need to use the full stop ( . ) because it gives us more word characters and {30} searches for us to get 30 word characters before we hit the letters Turk.\n",
    "\n",
    "The period {30} after Turk gives us another 30 word characters.\n",
    "\n",
    "Try to see if you can use some of what has been reviewed above to include text extracts that contain the word Roman."
   ]
  },
  {
   "cell_type": "code",
   "execution_count": 13,
   "metadata": {},
   "outputs": [
    {
     "data": {
      "text/plain": [
       "['educated he is as silent as a Turk and a kind of ignorant carele',\n",
       " ' cause of their ruin He was a Turkish merchant and had inhabited',\n",
       " ' intentions in his favour The Turk amazed and delighted endeavou',\n",
       " 'eward his toil and hazard The Turk quickly perceived the impress',\n",
       " 'eized and made a slave by the Turks recommended by her beauty sh',\n",
       " ' day for the execution of the Turk was fixed but on the night pr',\n",
       " 'passing into some part of the Turkish dominions Safie resolved t',\n",
       " 'parture before which time the Turk renewed his promise that she ',\n",
       " 'irs of her native country The Turk allowed this intimacy to take',\n",
       " ' He quickly arranged with the Turk that if the latter should fin',\n",
       " ' learned that the treacherous Turk for whom he and his family en',\n",
       " 'it but the ingratitude of the Turk and the loss of his beloved S',\n",
       " ' mandate A few days after the Turk entered his daughter s apartm',\n",
       " 'this emergency A residence in Turkey was abhorrent to her her re',\n",
       " 'rstood the common language of Turkey and departed for Germany Sh']"
      ]
     },
     "execution_count": 13,
     "metadata": {},
     "output_type": "execute_result"
    }
   ],
   "source": [
    "re.findall(r'.{30}Turk.{30}', cleaned_text)"
   ]
  },
  {
   "cell_type": "markdown",
   "metadata": {},
   "source": [
    "# Square brackets [A-Z]\n",
    "\n",
    "Find words that start with capital letters"
   ]
  },
  {
   "cell_type": "code",
   "execution_count": 14,
   "metadata": {},
   "outputs": [
    {
     "name": "stdout",
     "output_type": "stream",
     "text": [
      "['Frankenstein', 'Modern', 'Prometheus', 'Mary', 'Wollstonecraft', 'Godwin', 'Shelley', 'CONTENTS', 'Letter', 'Letter', 'Letter', 'Letter', 'Chapter', 'Chapter', 'Chapter', 'Chapter', 'Chapter', 'Chapter', 'Chapter', 'Chapter']\n"
     ]
    }
   ],
   "source": [
    "upper_case_word = re.findall(r'[A-Z]\\w+', text)\n",
    "print (upper_case_word[:20])"
   ]
  },
  {
   "cell_type": "markdown",
   "metadata": {},
   "source": [
    "Many of these words are capitalized because they appear after a period, and thus are not what I would call \"real\" capitalized words.\n",
    "\n",
    "If you want to filter out the \"inauthentic\" words from your list, then you can reveal them by making a loop and inserting a condition that can check whether the words should be written in lowercase elsewhere in the texts, because if they are, then they are \"fake\"."
   ]
  },
  {
   "cell_type": "code",
   "execution_count": 15,
   "metadata": {},
   "outputs": [
    {
     "name": "stdout",
     "output_type": "stream",
     "text": [
      "['Frankenstein', 'Prometheus', 'Mary', 'Wollstonecraft', 'Godwin', 'Shelley', 'Chapter', 'Chapter', 'Chapter', 'Chapter', 'Chapter', 'Chapter', 'Chapter', 'Chapter', 'Chapter', 'Chapter', 'Chapter', 'Chapter', 'Chapter', 'Chapter']\n"
     ]
    }
   ],
   "source": [
    "true_upper_case = []\n",
    "for word in upper_case_word:\n",
    "    if word.lower() not in text:\n",
    "        true_upper_case.append(word)\n",
    "print (true_upper_case[0:20])"
   ]
  },
  {
   "cell_type": "code",
   "execution_count": null,
   "metadata": {},
   "outputs": [],
   "source": []
  }
 ],
 "metadata": {
  "kernelspec": {
   "display_name": "Python 3 (ipykernel)",
   "language": "python",
   "name": "python3"
  },
  "language_info": {
   "codemirror_mode": {
    "name": "ipython",
    "version": 3
   },
   "file_extension": ".py",
   "mimetype": "text/x-python",
   "name": "python",
   "nbconvert_exporter": "python",
   "pygments_lexer": "ipython3",
   "version": "3.12.4"
  }
 },
 "nbformat": 4,
 "nbformat_minor": 4
}
