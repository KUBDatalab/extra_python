{
 "cells": [
  {
   "cell_type": "markdown",
   "id": "955f0efe",
   "metadata": {},
   "source": [
    "Formålet er at opnå et kendskab til regulære udtryk og deres implementering i Python.\n",
    "\n",
    "RegEx' anvendelse er meget udbredt, fordi RegEx er super smart i relation til tekstbehandling, fordi det kan bruges til at foretage avancerede søgninger. RegEx anvendes til søgemaskiner og til søg og erstat funktioner. At arbejde med RegEx er afgjort en oplevelse for sig, men når man får indblik i omfanget af opgaver, som kan løses med RegEx, så indser man, at det er et utroligt godt værktøj.\n",
    "\n",
    "Denne notebook forsøger ikke at lære dig alt om RegEx, men den forsøger at skabe læring om det, og kun et fåtal af mulighederne bliver illustreret nedenfor.\n",
    "\n",
    "Foruden RegEx indeholder denne notebook mange loops, så på den måde kan du også få indblik i, hvordan du skriver den slags."
   ]
  },
  {
   "cell_type": "code",
   "execution_count": 2,
   "id": "b66a9240",
   "metadata": {},
   "outputs": [],
   "source": [
    "# importer biblioteker\n",
    "import re\n",
    "from pathlib import Path\n",
    "import os"
   ]
  },
  {
   "cell_type": "code",
   "execution_count": 8,
   "id": "d1143fee",
   "metadata": {},
   "outputs": [],
   "source": [
    "# Sti til mappe med data / path to data\n",
    "input_dir = Path.cwd() / '../data/txt_files/grimm'\n",
    "# byg liste af filnavne vha. os.listdir() metoden / build file list using os.listdir method.\n",
    "files = os.listdir(input_dir)\n",
    "\n",
    "# Tom liste til data / make an empty list \n",
    "texts = []\n",
    "# loop fillisten og gem teksterne i listen 'texts'.\n",
    "for i in files:\n",
    "    with open (input_dir  / i, 'r', encoding='utf-8-sig') as f:\n",
    "        text = f.read()\n",
    "        texts.append(text)"
   ]
  },
  {
   "cell_type": "code",
   "execution_count": 9,
   "id": "7c83b273",
   "metadata": {},
   "outputs": [
    {
     "data": {
      "text/plain": [
       "'ASHPUTTEL\\n\\n\\n\\n\\n\\nThe wife of a rich man fell sick; and when she felt that her end drew\\n\\nnigh, she called her only daughter to her bed-side, and said, ‘Always be\\n\\na good girl, and I will look down from heaven and watch over you.’ Soon\\n\\nafterwards she shut her eyes and died, and was buried in the garden;\\n\\nand the little girl went every day to her grave and wept, and was always\\n\\ngood and kind to all about her. And the snow fell and spread a beautiful\\n\\nwhite covering over the grave; but by the time the spring came, and the\\n\\nsun had melted it away again, her father had married another wife. This\\n\\nnew wife had two daughters of her own, that she brought home with her;\\n\\nthey were fair in face but foul at heart, and it was now a sorry time\\n\\nfor the poor little girl. ‘What does the good-for-nothing want in the\\n\\nparlour?’ said they; ‘they who would eat bread should first earn it;\\n\\naway with the kitchen-maid!’ Then they took away her fine clothes, and\\n\\ngave her an old grey frock to put on, and laughed at her, and turned her\\n\\ninto the kitchen.\\n\\n\\n\\nThere she was forced to do hard work; to rise early before daylight, to\\n\\nbring the water, to make the fire, to cook and to wash. Besides that,\\n\\nthe sisters plagued her in all sorts of ways, and laughed at her. In the\\n\\nevening when she was tired, she had no bed to lie down on, but was made\\n\\nto lie by the hearth among the ashes; and as this, of course, made her\\n\\nalways dusty and dirty, they called her Ashputtel.\\n\\n\\n\\nIt happened once that the father was going to the fair, and asked his\\n\\nwife’s daughters what he should bring them. ‘Fine clothes,’ said the\\n\\nfirst; ‘Pearls and diamonds,’ cried the second. ‘Now, child,’ said he\\n\\nto his own daughter, ‘what will you have?’ ‘The first twig, dear\\n\\nfather, that brushes against your hat when you turn your face to come\\n\\nhomewards,’ said she. Then he bought for the first two the fine clothes\\n\\nand pearls and diamonds they had asked for: and on his way home, as he\\n\\nrode through a green copse, a hazel twig brushed against him, and almost\\n\\npushed off his hat: so he broke it off and brought it away; and when he\\n\\ngot home he gave it to his daughter. Then she took it, and went to\\n\\nher mother’s grave and planted it there; and cried so much that it was\\n\\nwatered with her tears; and there it grew and became a fine tree. Three\\n\\ntimes every day she went to it and cried; and soon a little bird came\\n\\nand built its nest upon the tree, and talked with her, and watched over\\n\\nher, and brought her whatever she wished for.\\n\\n\\n\\nNow it happened that the king of that land held a feast, which was to\\n\\nlast three days; and out of those who came to it his son was to choose\\n\\na bride for himself. Ashputtel’s two sisters were asked to come; so they\\n\\ncalled her up, and said, ‘Now, comb our hair, brush our shoes, and tie\\n\\nour sashes for us, for we are going to dance at the king’s feast.’\\n\\nThen she did as she was told; but when all was done she could not help\\n\\ncrying, for she thought to herself, she should so have liked to have\\n\\ngone with them to the ball; and at last she begged her mother very hard\\n\\nto let her go. ‘You, Ashputtel!’ said she; ‘you who have nothing to\\n\\nwear, no clothes at all, and who cannot even dance--you want to go to\\n\\nthe ball? And when she kept on begging, she said at last, to get rid of\\n\\nher, ‘I will throw this dishful of peas into the ash-heap, and if in\\n\\ntwo hours’ time you have picked them all out, you shall go to the feast\\n\\ntoo.’\\n\\n\\n\\nThen she threw the peas down among the ashes, but the little maiden ran\\n\\nout at the back door into the garden, and cried out:\\n\\n\\n\\n ‘Hither, hither, through the sky,\\n\\n  Turtle-doves and linnets, fly!\\n\\n  Blackbird, thrush, and chaffinch gay,\\n\\n  Hither, hither, haste away!\\n\\n  One and all come help me, quick!\\n\\n  Haste ye, haste ye!--pick, pick, pick!’\\n\\n\\n\\nThen first came two white doves, flying in at the kitchen window; next\\n\\ncame two turtle-doves; and after them came all the little birds under\\n\\nheaven, chirping and fluttering in: and they flew down into the ashes.\\n\\nAnd the little doves stooped their heads down and set to work, pick,\\n\\npick, pick; and then the others began to pick, pick, pick: and among\\n\\nthem all they soon picked out all the good grain, and put it into a dish\\n\\nbut left the ashes. Long before the end of the hour the work was quite\\n\\ndone, and all flew out again at the windows.\\n\\n\\n\\nThen Ashputtel brought the dish to her mother, overjoyed at the thought\\n\\nthat now she should go to the ball. But the mother said, ‘No, no! you\\n\\nslut, you have no clothes, and cannot dance; you shall not go.’ And when\\n\\nAshputtel begged very hard to go, she said, ‘If you can in one hour’s\\n\\ntime pick two of those dishes of peas out of the ashes, you shall go\\n\\ntoo.’ And thus she thought she should at least get rid of her. So she\\n\\nshook two dishes of peas into the ashes.\\n\\n\\n\\nBut the little maiden went out into the garden at the back of the house,\\n\\nand cried out as before:\\n\\n\\n\\n ‘Hither, hither, through the sky,\\n\\n  Turtle-doves and linnets, fly!\\n\\n  Blackbird, thrush, and chaffinch gay,\\n\\n  Hither, hither, haste away!\\n\\n  One and all come help me, quick!\\n\\n  Haste ye, haste ye!--pick, pick, pick!’\\n\\n\\n\\nThen first came two white doves in at the kitchen window; next came two\\n\\nturtle-doves; and after them came all the little birds under heaven,\\n\\nchirping and hopping about. And they flew down into the ashes; and the\\n\\nlittle doves put their heads down and set to work, pick, pick, pick; and\\n\\nthen the others began pick, pick, pick; and they put all the good grain\\n\\ninto the dishes, and left all the ashes. Before half an hour’s time all\\n\\nwas done, and out they flew again. And then Ashputtel took the dishes to\\n\\nher mother, rejoicing to think that she should now go to the ball.\\n\\nBut her mother said, ‘It is all of no use, you cannot go; you have no\\n\\nclothes, and cannot dance, and you would only put us to shame’: and off\\n\\nshe went with her two daughters to the ball.\\n\\n\\n\\nNow when all were gone, and nobody left at home, Ashputtel went\\n\\nsorrowfully and sat down under the hazel-tree, and cried out:\\n\\n\\n\\n ‘Shake, shake, hazel-tree,\\n\\n  Gold and silver over me!’\\n\\n\\n\\nThen her friend the bird flew out of the tree, and brought a gold and\\n\\nsilver dress for her, and slippers of spangled silk; and she put them\\n\\non, and followed her sisters to the feast. But they did not know her,\\n\\nand thought it must be some strange princess, she looked so fine and\\n\\nbeautiful in her rich clothes; and they never once thought of Ashputtel,\\n\\ntaking it for granted that she was safe at home in the dirt.\\n\\n\\n\\nThe king’s son soon came up to her, and took her by the hand and danced\\n\\nwith her, and no one else: and he never left her hand; but when anyone\\n\\nelse came to ask her to dance, he said, ‘This lady is dancing with me.’\\n\\n\\n\\nThus they danced till a late hour of the night; and then she wanted to\\n\\ngo home: and the king’s son said, ‘I shall go and take care of you to\\n\\nyour home’; for he wanted to see where the beautiful maiden lived. But\\n\\nshe slipped away from him, unawares, and ran off towards home; and as\\n\\nthe prince followed her, she jumped up into the pigeon-house and shut\\n\\nthe door. Then he waited till her father came home, and told him that\\n\\nthe unknown maiden, who had been at the feast, had hid herself in the\\n\\npigeon-house. But when they had broken open the door they found no one\\n\\nwithin; and as they came back into the house, Ashputtel was lying, as\\n\\nshe always did, in her dirty frock by the ashes, and her dim little\\n\\nlamp was burning in the chimney. For she had run as quickly as she could\\n\\nthrough the pigeon-house and on to the hazel-tree, and had there taken\\n\\noff her beautiful clothes, and put them beneath the tree, that the bird\\n\\nmight carry them away, and had lain down again amid the ashes in her\\n\\nlittle grey frock.\\n\\n\\n\\nThe next day when the feast was again held, and her father, mother, and\\n\\nsisters were gone, Ashputtel went to the hazel-tree, and said:\\n\\n\\n\\n ‘Shake, shake, hazel-tree,\\n\\n  Gold and silver over me!’\\n\\n\\n\\nAnd the bird came and brought a still finer dress than the one she\\n\\nhad worn the day before. And when she came in it to the ball, everyone\\n\\nwondered at her beauty: but the king’s son, who was waiting for her,\\n\\ntook her by the hand, and danced with her; and when anyone asked her to\\n\\ndance, he said as before, ‘This lady is dancing with me.’\\n\\n\\n\\nWhen night came she wanted to go home; and the king’s son followed here\\n\\nas before, that he might see into what house she went: but she sprang\\n\\naway from him all at once into the garden behind her father’s house.\\n\\nIn this garden stood a fine large pear-tree full of ripe fruit; and\\n\\nAshputtel, not knowing where to hide herself, jumped up into it without\\n\\nbeing seen. Then the king’s son lost sight of her, and could not find\\n\\nout where she was gone, but waited till her father came home, and said\\n\\nto him, ‘The unknown lady who danced with me has slipped away, and I\\n\\nthink she must have sprung into the pear-tree.’ The father thought to\\n\\nhimself, ‘Can it be Ashputtel?’ So he had an axe brought; and they cut\\n\\ndown the tree, but found no one upon it. And when they came back into\\n\\nthe kitchen, there lay Ashputtel among the ashes; for she had slipped\\n\\ndown on the other side of the tree, and carried her beautiful clothes\\n\\nback to the bird at the hazel-tree, and then put on her little grey\\n\\nfrock.\\n\\n\\n\\nThe third day, when her father and mother and sisters were gone, she\\n\\nwent again into the garden, and said:\\n\\n\\n\\n ‘Shake, shake, hazel-tree,\\n\\n  Gold and silver over me!’\\n\\n\\n\\nThen her kind friend the bird brought a dress still finer than the\\n\\nformer one, and slippers which were all of gold: so that when she came\\n\\nto the feast no one knew what to say, for wonder at her beauty: and the\\n\\nking’s son danced with nobody but her; and when anyone else asked her to\\n\\ndance, he said, ‘This lady is _my_ partner, sir.’\\n\\n\\n\\nWhen night came she wanted to go home; and the king’s son would go with\\n\\nher, and said to himself, ‘I will not lose her this time’; but, however,\\n\\nshe again slipped away from him, though in such a hurry that she dropped\\n\\nher left golden slipper upon the stairs.\\n\\n\\n\\nThe prince took the shoe, and went the next day to the king his father,\\n\\nand said, ‘I will take for my wife the lady that this golden slipper\\n\\nfits.’ Then both the sisters were overjoyed to hear it; for they\\n\\nhad beautiful feet, and had no doubt that they could wear the golden\\n\\nslipper. The eldest went first into the room where the slipper was, and\\n\\nwanted to try it on, and the mother stood by. But her great toe could\\n\\nnot go into it, and the shoe was altogether much too small for her. Then\\n\\nthe mother gave her a knife, and said, ‘Never mind, cut it off; when you\\n\\nare queen you will not care about toes; you will not want to walk.’ So\\n\\nthe silly girl cut off her great toe, and thus squeezed on the shoe,\\n\\nand went to the king’s son. Then he took her for his bride, and set her\\n\\nbeside him on his horse, and rode away with her homewards.\\n\\n\\n\\nBut on their way home they had to pass by the hazel-tree that Ashputtel\\n\\nhad planted; and on the branch sat a little dove singing:\\n\\n\\n\\n ‘Back again! back again! look to the shoe!\\n\\n  The shoe is too small, and not made for you!\\n\\n  Prince! prince! look again for thy bride,\\n\\n  For she’s not the true one that sits by thy side.’\\n\\n\\n\\nThen the prince got down and looked at her foot; and he saw, by the\\n\\nblood that streamed from it, what a trick she had played him. So he\\n\\nturned his horse round, and brought the false bride back to her home,\\n\\nand said, ‘This is not the right bride; let the other sister try and put\\n\\non the slipper.’ Then she went into the room and got her foot into the\\n\\nshoe, all but the heel, which was too large. But her mother squeezed it\\n\\nin till the blood came, and took her to the king’s son: and he set her\\n\\nas his bride by his side on his horse, and rode away with her.\\n\\n\\n\\nBut when they came to the hazel-tree the little dove sat there still,\\n\\nand sang:\\n\\n\\n\\n ‘Back again! back again! look to the shoe!\\n\\n  The shoe is too small, and not made for you!\\n\\n  Prince! prince! look again for thy bride,\\n\\n  For she’s not the true one that sits by thy side.’\\n\\n\\n\\nThen he looked down, and saw that the blood streamed so much from the\\n\\nshoe, that her white stockings were quite red. So he turned his horse\\n\\nand brought her also back again. ‘This is not the true bride,’ said he\\n\\nto the father; ‘have you no other daughters?’ ‘No,’ said he; ‘there is\\n\\nonly a little dirty Ashputtel here, the child of my first wife; I am\\n\\nsure she cannot be the bride.’ The prince told him to send her. But the\\n\\nmother said, ‘No, no, she is much too dirty; she will not dare to show\\n\\nherself.’ However, the prince would have her come; and she first washed\\n\\nher face and hands, and then went in and curtsied to him, and he reached\\n\\nher the golden slipper. Then she took her clumsy shoe off her left foot,\\n\\nand put on the golden slipper; and it fitted her as if it had been made\\n\\nfor her. And when he drew near and looked at her face he knew her, and\\n\\nsaid, ‘This is the right bride.’ But the mother and both the sisters\\n\\nwere frightened, and turned pale with anger as he took Ashputtel on his\\n\\nhorse, and rode away with her. And when they came to the hazel-tree, the\\n\\nwhite dove sang:\\n\\n\\n\\n ‘Home! home! look at the shoe!\\n\\n  Princess! the shoe was made for you!\\n\\n  Prince! prince! take home thy bride,\\n\\n  For she is the true one that sits by thy side!’\\n\\n\\n\\nAnd when the dove had done its song, it came flying, and perched upon\\n\\nher right shoulder, and so went home with her.'"
      ]
     },
     "execution_count": 9,
     "metadata": {},
     "output_type": "execute_result"
    }
   ],
   "source": [
    "texts[0]"
   ]
  },
  {
   "cell_type": "markdown",
   "id": "c3bfbb32",
   "metadata": {},
   "source": [
    "# Rens teksten\n",
    "Rensning af tekst kan foregå på flere måder. Metoden nedenfor er på den måde en ud af flere måder.\n",
    "\n",
    "Vi begynder med at importere RegEx (import re).\n",
    "\n",
    "RegEx mønsteret er '\\b\\S+\\b'.\n",
    "\n",
    "\\b : \\b finder positionen ved grænsen af et ord (word boundary).\n",
    "\n",
    "\\S: \\S matcher ethvert ikke-mellemrum\n",
    "\n",
    "+: + matcher det forrige tegn mellem én og et ubegrænset antal gange, så mange gange som muligt ind til næste tegn. Man siger, at plusset er grådigt.\n",
    "\n",
    "\\b : \\b finder positionen ved grænsen af et ord (word boundary).\n",
    "\n",
    "\n",
    "\n",
    "### Clean the text\n",
    "Cleaning text can be done in several ways. The method below is one of several approaches.\n",
    "\n",
    "We start by importing RegEx (import re).\n",
    "\n",
    "The RegEx pattern is '\\b\\S+\\b'.\n",
    "\n",
    "\\b : \\b finds the position at the boundary of a word (word boundary).\n",
    "\n",
    "\\S: \\S matches any non-whitespace character.\n",
    "\n",
    ": + matches the previous character between one and an unlimited number of times, as many times as possible until the next character. It's said that the plus is greedy.\n",
    "\\b : \\b finds the position at the boundary of a word (word boundary)."
   ]
  }
 ],
 "metadata": {
  "kernelspec": {
   "display_name": "Python 3 (ipykernel)",
   "language": "python",
   "name": "python3"
  },
  "language_info": {
   "codemirror_mode": {
    "name": "ipython",
    "version": 3
   },
   "file_extension": ".py",
   "mimetype": "text/x-python",
   "name": "python",
   "nbconvert_exporter": "python",
   "pygments_lexer": "ipython3",
   "version": "3.10.9"
  }
 },
 "nbformat": 4,
 "nbformat_minor": 5
}
