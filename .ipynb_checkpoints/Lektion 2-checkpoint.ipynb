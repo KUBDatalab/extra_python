{
 "cells": [
  {
   "cell_type": "markdown",
   "id": "f4dec8fc",
   "metadata": {},
   "source": [
    "Formålet er at øge kendskabet til dataframes og de mest udbredte funktioner. Pandas er et 'must', hvis man bruger Python til at arbejde data som er systematiseret og struktureret i rækker og kolonner."
   ]
  },
  {
   "cell_type": "code",
   "execution_count": 1,
   "id": "d2b9e013",
   "metadata": {},
   "outputs": [],
   "source": [
    "from pathlib import Path\n",
    "import pandas as pd"
   ]
  },
  {
   "cell_type": "code",
   "execution_count": null,
   "id": "4500d3df",
   "metadata": {},
   "outputs": [],
   "source": [
    "input_foæder = Path.cwd( /)"
   ]
  }
 ],
 "metadata": {
  "kernelspec": {
   "display_name": "Python 3 (ipykernel)",
   "language": "python",
   "name": "python3"
  },
  "language_info": {
   "codemirror_mode": {
    "name": "ipython",
    "version": 3
   },
   "file_extension": ".py",
   "mimetype": "text/x-python",
   "name": "python",
   "nbconvert_exporter": "python",
   "pygments_lexer": "ipython3",
   "version": "3.10.9"
  }
 },
 "nbformat": 4,
 "nbformat_minor": 5
}
